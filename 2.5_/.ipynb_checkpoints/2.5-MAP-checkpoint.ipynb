{
 "cells": [
  {
   "cell_type": "code",
   "execution_count": 1,
   "id": "ff4f014f-2924-4fc9-bf03-e5c1f9f8a6d1",
   "metadata": {},
   "outputs": [],
   "source": [
    "import pandas as pd\n",
    "import os\n",
    "from keplergl import KeplerGl\n",
    "from pyproj import CRS \n",
    "import numpy as np\n",
    "from matplotlib import pyplot as plt"
   ]
  },
  {
   "cell_type": "code",
   "execution_count": 3,
   "id": "428a839c-8dfd-420d-b838-deb23869e69d",
   "metadata": {},
   "outputs": [],
   "source": [
    "df = pd.read_csv(\n",
    "    r\"C:\\Users\\Kathe\\CitiBike-2022-2\\3.3_Include_Trips.csv\",  # Use a raw string (r\"\")\n",
    "    index_col=0,\n",
    "    low_memory=False\n",
    ")"
   ]
  },
  {
   "cell_type": "code",
   "execution_count": 5,
   "id": "8596f5ae-9e69-4b4f-aaab-4a227278798d",
   "metadata": {},
   "outputs": [
    {
     "data": {
      "text/plain": [
       "Index(['rideable_type', 'started_at', 'ended_at', 'start_station_name',\n",
       "       'start_station_id', 'end_station_name', 'end_station_id', 'start_lat',\n",
       "       'start_lng', 'end_lat', 'end_lng', 'member_casual', 'date', 'avgTemp',\n",
       "       'trips_per_day'],\n",
       "      dtype='object')"
      ]
     },
     "execution_count": 5,
     "metadata": {},
     "output_type": "execute_result"
    }
   ],
   "source": [
    "df.columns"
   ]
  },
  {
   "cell_type": "code",
   "execution_count": 23,
   "id": "e9b26fc9-4e11-48fc-a2c6-ba12084e7b6c",
   "metadata": {},
   "outputs": [],
   "source": [
    "import pandas as pd\n",
    "\n",
    "# Count how many times each station was used as a starting point\n",
    "start_counts = df['start_station_name'].value_counts()\n",
    "\n",
    "# Count how many times each station was used as an ending point\n",
    "end_counts = df['end_station_name'].value_counts()\n",
    "\n",
    "# Combine counts for total station usage\n",
    "total_usage = (start_counts + end_counts).reset_index()\n",
    "total_usage.columns = ['station_name', 'total_trips']\n",
    "\n",
    "# Sort and get top 20 stations\n",
    "top_20_total = total_usage.sort_values(by='total_trips', ascending=False).head(20)\n",
    "\n",
    "# Merge with original df to get lat/lng info (removing duplicates)\n",
    "station_info = df[['start_station_name', 'start_lat', 'start_lng']].drop_duplicates()\n",
    "top_20_total = top_20_total.merge(station_info, left_on='station_name', right_on='start_station_name', how='left')\n",
    "\n",
    "# Remove duplicate column\n",
    "top_20_total.drop(columns=['start_station_name'], inplace=True)\n",
    "\n",
    "#Add a 'station_category' column (High / Medium / Low usage)\n",
    "def categorize_stations(trips):\n",
    "    if trips > 500:\n",
    "        return \"High Usage\"\n",
    "    elif 200 <= trips <= 500:\n",
    "        return \"Medium Usage\"\n",
    "    else:\n",
    "        return \"Low Usage\"\n",
    "\n",
    "top_20_total['station_category'] = top_20_total['total_trips'].apply(categorize_stations)\n",
    "\n",
    "#Save updated CSV\n",
    "top_20_total.to_csv('top_20_total_updated.csv', index=False)"
   ]
  },
  {
   "cell_type": "code",
   "execution_count": 18,
   "id": "6b7b9257-2314-40c1-ab57-78cd197ed95d",
   "metadata": {},
   "outputs": [
    {
     "name": "stdout",
     "output_type": "stream",
     "text": [
      "Data successfully transformed and saved to citibike_kepler_ready.csv\n"
     ]
    }
   ],
   "source": [
    "import pandas as pd\n",
    "\n",
    "# Assuming 'df' is your existing DataFrame with the mentioned columns\n",
    "\n",
    "# Create a long-form DataFrame for Kepler.gl\n",
    "df_start = df[['start_lat', 'start_lng', 'started_at', 'start_station_name', 'member_casual']].copy()\n",
    "df_start.rename(columns={\n",
    "    'start_lat': 'latitude',\n",
    "    'start_lng': 'longitude',\n",
    "    'started_at': 'timestamp',\n",
    "    'start_station_name': 'station_name'\n",
    "}, inplace=True)\n",
    "df_start['trip_point'] = 'start'\n",
    "\n",
    "df_end = df[['end_lat', 'end_lng', 'ended_at', 'end_station_name', 'member_casual']].copy()\n",
    "df_end.rename(columns={\n",
    "    'end_lat': 'latitude',\n",
    "    'end_lng': 'longitude',\n",
    "    'ended_at': 'timestamp',\n",
    "    'end_station_name': 'station_name'\n",
    "}, inplace=True)\n",
    "df_end['trip_point'] = 'end'\n",
    "\n",
    "# Add unique trip ID to link start and end points\n",
    "df_start['trip_id'] = df.index\n",
    "df_end['trip_id'] = df.index\n",
    "\n",
    "# Concatenate both start and end dataframes to form a long format\n",
    "df_long = pd.concat([df_start, df_end], ignore_index=True)\n",
    "\n",
    "# Ensure timestamps are formatted correctly for Kepler.gl\n",
    "df_long['timestamp'] = pd.to_datetime(df_long['timestamp']).dt.strftime('%Y-%m-%dT%H:%M:%S')\n",
    "\n",
    "# Save to CSV for Kepler.gl upload\n",
    "df_long.to_csv('citibike_kepler_ready.csv', index=False)\n",
    "\n",
    "print(\"Data successfully transformed and saved to citibike_kepler_ready.csv\")"
   ]
  },
  {
   "cell_type": "code",
   "execution_count": 20,
   "id": "ff28151c-b6f7-4570-89bf-b3c52a9b6670",
   "metadata": {},
   "outputs": [],
   "source": [
    "# Create a value and group by start and end station\n",
    "df['value'] = 1\n",
    "df_group = df.groupby(['started_at', 'ended_at'])['value'].count().reset_index()"
   ]
  },
  {
   "cell_type": "code",
   "execution_count": 22,
   "id": "7f8a7df8-d48a-45ed-bf7c-8fddec46680a",
   "metadata": {},
   "outputs": [
    {
     "name": "stdout",
     "output_type": "stream",
     "text": [
      "298379\n",
      "(298379, 16)\n"
     ]
    }
   ],
   "source": [
    "print(df_group['value'].sum())\n",
    "print(df.shape)"
   ]
  },
  {
   "cell_type": "code",
   "execution_count": 24,
   "id": "85eee539-f57b-4ed1-a843-2f6f1bd3d6db",
   "metadata": {},
   "outputs": [],
   "source": [
    "df_group['started_at'] = df_group['started_at'].astype(str)\n",
    "df_group['ended_at'] = df_group['ended_at'].astype(str)"
   ]
  },
  {
   "cell_type": "code",
   "execution_count": 26,
   "id": "52e55a85-e7ca-46e1-86fc-61b710b57065",
   "metadata": {},
   "outputs": [
    {
     "data": {
      "text/plain": [
       "started_at    object\n",
       "ended_at      object\n",
       "value          int64\n",
       "dtype: object"
      ]
     },
     "execution_count": 26,
     "metadata": {},
     "output_type": "execute_result"
    }
   ],
   "source": [
    "df_group.dtypes"
   ]
  },
  {
   "cell_type": "code",
   "execution_count": 28,
   "id": "4f210078-331f-4d82-9790-0b69eb5a44d7",
   "metadata": {},
   "outputs": [],
   "source": [
    "df_group['started_at'] = df_group['started_at'].apply(lambda x: x.decode('utf-8') if isinstance(x, bytes) else x)\n",
    "df_group['ended_at'] = df_group['ended_at'].apply(lambda x: x.decode('utf-8') if isinstance(x, bytes) else x)"
   ]
  },
  {
   "cell_type": "code",
   "execution_count": 30,
   "id": "5e17e25d-408a-4270-a3a9-57ce628082ed",
   "metadata": {},
   "outputs": [
    {
     "name": "stdout",
     "output_type": "stream",
     "text": [
      "started_at    1\n",
      "ended_at      1\n",
      "value         1\n",
      "dtype: int64\n"
     ]
    }
   ],
   "source": [
    "print(df_group.applymap(type).nunique())"
   ]
  },
  {
   "cell_type": "code",
   "execution_count": 32,
   "id": "28c82862-4f5a-4b35-b093-c9ab30321d89",
   "metadata": {},
   "outputs": [],
   "source": [
    "df_group['started_at'] = df_group['started_at'].str.strip()\n",
    "df_group['ended_at'] = df_group['ended_at'].str.strip()"
   ]
  },
  {
   "cell_type": "code",
   "execution_count": 34,
   "id": "c62b8760-f8dc-451e-b9eb-251e19d43ea8",
   "metadata": {},
   "outputs": [],
   "source": [
    "df_group.dropna(subset=['started_at', 'ended_at'], inplace=True)"
   ]
  },
  {
   "cell_type": "code",
   "execution_count": null,
   "id": "1e2cb1db-1ee2-4877-a2a3-c3ef91d28841",
   "metadata": {},
   "outputs": [],
   "source": []
  }
 ],
 "metadata": {
  "kernelspec": {
   "display_name": "Python (newenv)",
   "language": "python",
   "name": "newenv"
  },
  "language_info": {
   "codemirror_mode": {
    "name": "ipython",
    "version": 3
   },
   "file_extension": ".py",
   "mimetype": "text/x-python",
   "name": "python",
   "nbconvert_exporter": "python",
   "pygments_lexer": "ipython3",
   "version": "3.8.15"
  }
 },
 "nbformat": 4,
 "nbformat_minor": 5
}
