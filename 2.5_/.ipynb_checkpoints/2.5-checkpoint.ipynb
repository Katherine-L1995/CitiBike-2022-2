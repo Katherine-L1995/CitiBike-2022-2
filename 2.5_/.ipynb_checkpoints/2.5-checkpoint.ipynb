{
 "cells": [
  {
   "cell_type": "code",
   "execution_count": 1,
   "id": "ff4f014f-2924-4fc9-bf03-e5c1f9f8a6d1",
   "metadata": {},
   "outputs": [],
   "source": [
    "import pandas as pd\n",
    "import os\n",
    "from keplergl import KeplerGl\n",
    "from pyproj import CRS \n",
    "import numpy as np\n",
    "from matplotlib import pyplot as plt"
   ]
  },
  {
   "cell_type": "code",
   "execution_count": null,
   "id": "1cfc740f",
   "metadata": {},
   "outputs": [],
   "source": []
  },
  {
   "cell_type": "code",
   "execution_count": 2,
   "id": "428a839c-8dfd-420d-b838-deb23869e69d",
   "metadata": {},
   "outputs": [],
   "source": [
    "import numpy as np\n",
    "df = pd.read_csv(\n",
    "    \"C:\\\\Users\\\\Kathe\\\\CitibikeNYC\\\\3.3_Include_Trips.csv\",\n",
    "    index_col=0,\n",
    "    low_memory=False\n",
    ")"
   ]
  },
  {
   "cell_type": "code",
   "execution_count": 3,
   "id": "8596f5ae-9e69-4b4f-aaab-4a227278798d",
   "metadata": {},
   "outputs": [
    {
     "data": {
      "text/html": [
       "<div>\n",
       "<style scoped>\n",
       "    .dataframe tbody tr th:only-of-type {\n",
       "        vertical-align: middle;\n",
       "    }\n",
       "\n",
       "    .dataframe tbody tr th {\n",
       "        vertical-align: top;\n",
       "    }\n",
       "\n",
       "    .dataframe thead th {\n",
       "        text-align: right;\n",
       "    }\n",
       "</style>\n",
       "<table border=\"1\" class=\"dataframe\">\n",
       "  <thead>\n",
       "    <tr style=\"text-align: right;\">\n",
       "      <th></th>\n",
       "      <th>rideable_type</th>\n",
       "      <th>started_at</th>\n",
       "      <th>ended_at</th>\n",
       "      <th>start_station_name</th>\n",
       "      <th>start_station_id</th>\n",
       "      <th>end_station_name</th>\n",
       "      <th>end_station_id</th>\n",
       "      <th>start_lat</th>\n",
       "      <th>start_lng</th>\n",
       "      <th>end_lat</th>\n",
       "      <th>end_lng</th>\n",
       "      <th>member_casual</th>\n",
       "      <th>date</th>\n",
       "      <th>avgTemp</th>\n",
       "      <th>trips_per_day</th>\n",
       "    </tr>\n",
       "    <tr>\n",
       "      <th>ride_id</th>\n",
       "      <th></th>\n",
       "      <th></th>\n",
       "      <th></th>\n",
       "      <th></th>\n",
       "      <th></th>\n",
       "      <th></th>\n",
       "      <th></th>\n",
       "      <th></th>\n",
       "      <th></th>\n",
       "      <th></th>\n",
       "      <th></th>\n",
       "      <th></th>\n",
       "      <th></th>\n",
       "      <th></th>\n",
       "      <th></th>\n",
       "    </tr>\n",
       "  </thead>\n",
       "  <tbody>\n",
       "    <tr>\n",
       "      <th>C7008DB9694CA543</th>\n",
       "      <td>electric_bike</td>\n",
       "      <td>2022-01-01 00:06:04.270</td>\n",
       "      <td>2022-01-01 00:33:24.780</td>\n",
       "      <td>MacDougal St &amp; Washington Sq</td>\n",
       "      <td>5797.01</td>\n",
       "      <td>6 Ave &amp; W 45 St</td>\n",
       "      <td>6593.15</td>\n",
       "      <td>40.732264</td>\n",
       "      <td>-73.998522</td>\n",
       "      <td>40.756951</td>\n",
       "      <td>-73.982631</td>\n",
       "      <td>member</td>\n",
       "      <td>2022-01-01</td>\n",
       "      <td>2.0</td>\n",
       "      <td>212</td>\n",
       "    </tr>\n",
       "    <tr>\n",
       "      <th>FB0FDDD34320DDC2</th>\n",
       "      <td>classic_bike</td>\n",
       "      <td>2022-01-01 16:49:41.119</td>\n",
       "      <td>2022-01-01 17:27:11.594</td>\n",
       "      <td>Central Park North &amp; Adam Clayton Powell Blvd</td>\n",
       "      <td>7617.07</td>\n",
       "      <td>E 40 St &amp; Park Ave</td>\n",
       "      <td>6432.11</td>\n",
       "      <td>40.799484</td>\n",
       "      <td>-73.955613</td>\n",
       "      <td>40.750756</td>\n",
       "      <td>-73.978326</td>\n",
       "      <td>casual</td>\n",
       "      <td>2022-01-01</td>\n",
       "      <td>2.0</td>\n",
       "      <td>212</td>\n",
       "    </tr>\n",
       "    <tr>\n",
       "      <th>E5E853DD87D8779A</th>\n",
       "      <td>classic_bike</td>\n",
       "      <td>2022-01-01 15:24:54.378</td>\n",
       "      <td>2022-01-01 15:36:46.957</td>\n",
       "      <td>Calyer St &amp; Guernsey St</td>\n",
       "      <td>5709.03</td>\n",
       "      <td>S 3 St &amp; Bedford Ave</td>\n",
       "      <td>5235.05</td>\n",
       "      <td>40.727558</td>\n",
       "      <td>-73.955059</td>\n",
       "      <td>40.712605</td>\n",
       "      <td>-73.962644</td>\n",
       "      <td>member</td>\n",
       "      <td>2022-01-01</td>\n",
       "      <td>2.0</td>\n",
       "      <td>212</td>\n",
       "    </tr>\n",
       "    <tr>\n",
       "      <th>7411B02C25F52479</th>\n",
       "      <td>classic_bike</td>\n",
       "      <td>2022-01-01 16:23:30.061</td>\n",
       "      <td>2022-01-01 16:26:02.631</td>\n",
       "      <td>Division St &amp; Bowery</td>\n",
       "      <td>5270.08</td>\n",
       "      <td>Market St &amp; Cherry St</td>\n",
       "      <td>5198.04</td>\n",
       "      <td>40.714193</td>\n",
       "      <td>-73.996732</td>\n",
       "      <td>40.710762</td>\n",
       "      <td>-73.994004</td>\n",
       "      <td>member</td>\n",
       "      <td>2022-01-01</td>\n",
       "      <td>2.0</td>\n",
       "      <td>212</td>\n",
       "    </tr>\n",
       "    <tr>\n",
       "      <th>3E45A5116B5CA066</th>\n",
       "      <td>electric_bike</td>\n",
       "      <td>2022-01-01 08:31:18.402</td>\n",
       "      <td>2022-01-01 08:35:27.884</td>\n",
       "      <td>Richardson St &amp; N Henry St</td>\n",
       "      <td>5433.03</td>\n",
       "      <td>Graham Ave &amp; Grand St</td>\n",
       "      <td>5178.06</td>\n",
       "      <td>40.719079</td>\n",
       "      <td>-73.942237</td>\n",
       "      <td>40.711863</td>\n",
       "      <td>-73.944024</td>\n",
       "      <td>member</td>\n",
       "      <td>2022-01-01</td>\n",
       "      <td>2.0</td>\n",
       "      <td>212</td>\n",
       "    </tr>\n",
       "    <tr>\n",
       "      <th>...</th>\n",
       "      <td>...</td>\n",
       "      <td>...</td>\n",
       "      <td>...</td>\n",
       "      <td>...</td>\n",
       "      <td>...</td>\n",
       "      <td>...</td>\n",
       "      <td>...</td>\n",
       "      <td>...</td>\n",
       "      <td>...</td>\n",
       "      <td>...</td>\n",
       "      <td>...</td>\n",
       "      <td>...</td>\n",
       "      <td>...</td>\n",
       "      <td>...</td>\n",
       "      <td>...</td>\n",
       "    </tr>\n",
       "    <tr>\n",
       "      <th>CCA68108B226AE22</th>\n",
       "      <td>electric_bike</td>\n",
       "      <td>2022-12-31 14:36:58.505</td>\n",
       "      <td>2022-12-31 14:46:08.504</td>\n",
       "      <td>Allen St &amp; Stanton St</td>\n",
       "      <td>5484.09</td>\n",
       "      <td>1 Ave &amp; E 39 St</td>\n",
       "      <td>6303.01</td>\n",
       "      <td>40.721782</td>\n",
       "      <td>-73.989234</td>\n",
       "      <td>40.747140</td>\n",
       "      <td>-73.971130</td>\n",
       "      <td>member</td>\n",
       "      <td>2022-12-31</td>\n",
       "      <td>0.1</td>\n",
       "      <td>303</td>\n",
       "    </tr>\n",
       "    <tr>\n",
       "      <th>E306B3D301E44BC8</th>\n",
       "      <td>electric_bike</td>\n",
       "      <td>2022-12-31 00:15:15.452</td>\n",
       "      <td>2022-12-31 00:22:12.312</td>\n",
       "      <td>8 Ave &amp; W 52 St</td>\n",
       "      <td>6816.07</td>\n",
       "      <td>E 51 St &amp; Lexington Ave</td>\n",
       "      <td>6659.01</td>\n",
       "      <td>40.763698</td>\n",
       "      <td>-73.985208</td>\n",
       "      <td>40.757148</td>\n",
       "      <td>-73.972078</td>\n",
       "      <td>member</td>\n",
       "      <td>2022-12-31</td>\n",
       "      <td>0.1</td>\n",
       "      <td>303</td>\n",
       "    </tr>\n",
       "    <tr>\n",
       "      <th>B0815253D63C1E8F</th>\n",
       "      <td>classic_bike</td>\n",
       "      <td>2022-12-31 14:04:22.020</td>\n",
       "      <td>2022-12-31 14:09:29.463</td>\n",
       "      <td>Broadway &amp; W 29 St</td>\n",
       "      <td>6289.06</td>\n",
       "      <td>Lexington Ave &amp; E 29 St</td>\n",
       "      <td>6164.09</td>\n",
       "      <td>40.746201</td>\n",
       "      <td>-73.988557</td>\n",
       "      <td>40.743116</td>\n",
       "      <td>-73.982154</td>\n",
       "      <td>member</td>\n",
       "      <td>2022-12-31</td>\n",
       "      <td>0.1</td>\n",
       "      <td>303</td>\n",
       "    </tr>\n",
       "    <tr>\n",
       "      <th>31AD94C01D542CF9</th>\n",
       "      <td>classic_bike</td>\n",
       "      <td>2022-12-31 02:23:39.373</td>\n",
       "      <td>2022-12-31 02:27:33.185</td>\n",
       "      <td>E 5 St &amp; Ave A</td>\n",
       "      <td>5626.06</td>\n",
       "      <td>E 5 St &amp; Ave A</td>\n",
       "      <td>5626.06</td>\n",
       "      <td>40.724790</td>\n",
       "      <td>-73.984301</td>\n",
       "      <td>40.724790</td>\n",
       "      <td>-73.984301</td>\n",
       "      <td>casual</td>\n",
       "      <td>2022-12-31</td>\n",
       "      <td>0.1</td>\n",
       "      <td>303</td>\n",
       "    </tr>\n",
       "    <tr>\n",
       "      <th>691755B4F0394A54</th>\n",
       "      <td>electric_bike</td>\n",
       "      <td>2022-12-31 06:25:55.441</td>\n",
       "      <td>2022-12-31 06:31:10.499</td>\n",
       "      <td>2 Ave &amp; E 122 St</td>\n",
       "      <td>7622.12</td>\n",
       "      <td>Lenox Ave &amp; W 117 St</td>\n",
       "      <td>7655.22</td>\n",
       "      <td>40.800561</td>\n",
       "      <td>-73.935016</td>\n",
       "      <td>40.802557</td>\n",
       "      <td>-73.949078</td>\n",
       "      <td>casual</td>\n",
       "      <td>2022-12-31</td>\n",
       "      <td>0.1</td>\n",
       "      <td>303</td>\n",
       "    </tr>\n",
       "  </tbody>\n",
       "</table>\n",
       "<p>298379 rows × 15 columns</p>\n",
       "</div>"
      ],
      "text/plain": [
       "                  rideable_type               started_at  \\\n",
       "ride_id                                                    \n",
       "C7008DB9694CA543  electric_bike  2022-01-01 00:06:04.270   \n",
       "FB0FDDD34320DDC2   classic_bike  2022-01-01 16:49:41.119   \n",
       "E5E853DD87D8779A   classic_bike  2022-01-01 15:24:54.378   \n",
       "7411B02C25F52479   classic_bike  2022-01-01 16:23:30.061   \n",
       "3E45A5116B5CA066  electric_bike  2022-01-01 08:31:18.402   \n",
       "...                         ...                      ...   \n",
       "CCA68108B226AE22  electric_bike  2022-12-31 14:36:58.505   \n",
       "E306B3D301E44BC8  electric_bike  2022-12-31 00:15:15.452   \n",
       "B0815253D63C1E8F   classic_bike  2022-12-31 14:04:22.020   \n",
       "31AD94C01D542CF9   classic_bike  2022-12-31 02:23:39.373   \n",
       "691755B4F0394A54  electric_bike  2022-12-31 06:25:55.441   \n",
       "\n",
       "                                 ended_at  \\\n",
       "ride_id                                     \n",
       "C7008DB9694CA543  2022-01-01 00:33:24.780   \n",
       "FB0FDDD34320DDC2  2022-01-01 17:27:11.594   \n",
       "E5E853DD87D8779A  2022-01-01 15:36:46.957   \n",
       "7411B02C25F52479  2022-01-01 16:26:02.631   \n",
       "3E45A5116B5CA066  2022-01-01 08:35:27.884   \n",
       "...                                   ...   \n",
       "CCA68108B226AE22  2022-12-31 14:46:08.504   \n",
       "E306B3D301E44BC8  2022-12-31 00:22:12.312   \n",
       "B0815253D63C1E8F  2022-12-31 14:09:29.463   \n",
       "31AD94C01D542CF9  2022-12-31 02:27:33.185   \n",
       "691755B4F0394A54  2022-12-31 06:31:10.499   \n",
       "\n",
       "                                             start_station_name  \\\n",
       "ride_id                                                           \n",
       "C7008DB9694CA543                   MacDougal St & Washington Sq   \n",
       "FB0FDDD34320DDC2  Central Park North & Adam Clayton Powell Blvd   \n",
       "E5E853DD87D8779A                        Calyer St & Guernsey St   \n",
       "7411B02C25F52479                           Division St & Bowery   \n",
       "3E45A5116B5CA066                     Richardson St & N Henry St   \n",
       "...                                                         ...   \n",
       "CCA68108B226AE22                          Allen St & Stanton St   \n",
       "E306B3D301E44BC8                                8 Ave & W 52 St   \n",
       "B0815253D63C1E8F                             Broadway & W 29 St   \n",
       "31AD94C01D542CF9                                 E 5 St & Ave A   \n",
       "691755B4F0394A54                               2 Ave & E 122 St   \n",
       "\n",
       "                 start_station_id         end_station_name end_station_id  \\\n",
       "ride_id                                                                     \n",
       "C7008DB9694CA543          5797.01          6 Ave & W 45 St        6593.15   \n",
       "FB0FDDD34320DDC2          7617.07       E 40 St & Park Ave        6432.11   \n",
       "E5E853DD87D8779A          5709.03     S 3 St & Bedford Ave        5235.05   \n",
       "7411B02C25F52479          5270.08    Market St & Cherry St        5198.04   \n",
       "3E45A5116B5CA066          5433.03    Graham Ave & Grand St        5178.06   \n",
       "...                           ...                      ...            ...   \n",
       "CCA68108B226AE22          5484.09          1 Ave & E 39 St        6303.01   \n",
       "E306B3D301E44BC8          6816.07  E 51 St & Lexington Ave        6659.01   \n",
       "B0815253D63C1E8F          6289.06  Lexington Ave & E 29 St        6164.09   \n",
       "31AD94C01D542CF9          5626.06           E 5 St & Ave A        5626.06   \n",
       "691755B4F0394A54          7622.12     Lenox Ave & W 117 St        7655.22   \n",
       "\n",
       "                  start_lat  start_lng    end_lat    end_lng member_casual  \\\n",
       "ride_id                                                                      \n",
       "C7008DB9694CA543  40.732264 -73.998522  40.756951 -73.982631        member   \n",
       "FB0FDDD34320DDC2  40.799484 -73.955613  40.750756 -73.978326        casual   \n",
       "E5E853DD87D8779A  40.727558 -73.955059  40.712605 -73.962644        member   \n",
       "7411B02C25F52479  40.714193 -73.996732  40.710762 -73.994004        member   \n",
       "3E45A5116B5CA066  40.719079 -73.942237  40.711863 -73.944024        member   \n",
       "...                     ...        ...        ...        ...           ...   \n",
       "CCA68108B226AE22  40.721782 -73.989234  40.747140 -73.971130        member   \n",
       "E306B3D301E44BC8  40.763698 -73.985208  40.757148 -73.972078        member   \n",
       "B0815253D63C1E8F  40.746201 -73.988557  40.743116 -73.982154        member   \n",
       "31AD94C01D542CF9  40.724790 -73.984301  40.724790 -73.984301        casual   \n",
       "691755B4F0394A54  40.800561 -73.935016  40.802557 -73.949078        casual   \n",
       "\n",
       "                        date  avgTemp  trips_per_day  \n",
       "ride_id                                               \n",
       "C7008DB9694CA543  2022-01-01      2.0            212  \n",
       "FB0FDDD34320DDC2  2022-01-01      2.0            212  \n",
       "E5E853DD87D8779A  2022-01-01      2.0            212  \n",
       "7411B02C25F52479  2022-01-01      2.0            212  \n",
       "3E45A5116B5CA066  2022-01-01      2.0            212  \n",
       "...                      ...      ...            ...  \n",
       "CCA68108B226AE22  2022-12-31      0.1            303  \n",
       "E306B3D301E44BC8  2022-12-31      0.1            303  \n",
       "B0815253D63C1E8F  2022-12-31      0.1            303  \n",
       "31AD94C01D542CF9  2022-12-31      0.1            303  \n",
       "691755B4F0394A54  2022-12-31      0.1            303  \n",
       "\n",
       "[298379 rows x 15 columns]"
      ]
     },
     "execution_count": 3,
     "metadata": {},
     "output_type": "execute_result"
    }
   ],
   "source": [
    "df"
   ]
  },
  {
   "cell_type": "code",
   "execution_count": 4,
   "id": "ff28151c-b6f7-4570-89bf-b3c52a9b6670",
   "metadata": {},
   "outputs": [],
   "source": [
    "# Create a value and group by start and end station\n",
    "df['value'] = 1\n",
    "df_group = df.groupby(['started_at', 'ended_at'])['value'].count().reset_index()"
   ]
  },
  {
   "cell_type": "code",
   "execution_count": 5,
   "id": "7f8a7df8-d48a-45ed-bf7c-8fddec46680a",
   "metadata": {},
   "outputs": [
    {
     "name": "stdout",
     "output_type": "stream",
     "text": [
      "298379\n",
      "(298379, 16)\n"
     ]
    }
   ],
   "source": [
    "print(df_group['value'].sum())\n",
    "print(df.shape)"
   ]
  },
  {
   "cell_type": "code",
   "execution_count": 6,
   "id": "85eee539-f57b-4ed1-a843-2f6f1bd3d6db",
   "metadata": {},
   "outputs": [],
   "source": [
    "df_group['started_at'] = df_group['started_at'].astype(str)\n",
    "df_group['ended_at'] = df_group['ended_at'].astype(str)"
   ]
  },
  {
   "cell_type": "code",
   "execution_count": 7,
   "id": "52e55a85-e7ca-46e1-86fc-61b710b57065",
   "metadata": {},
   "outputs": [
    {
     "data": {
      "text/plain": [
       "started_at    object\n",
       "ended_at      object\n",
       "value          int64\n",
       "dtype: object"
      ]
     },
     "execution_count": 7,
     "metadata": {},
     "output_type": "execute_result"
    }
   ],
   "source": [
    "df_group.dtypes"
   ]
  },
  {
   "cell_type": "code",
   "execution_count": 8,
   "id": "4f210078-331f-4d82-9790-0b69eb5a44d7",
   "metadata": {},
   "outputs": [],
   "source": [
    "df_group['started_at'] = df_group['started_at'].apply(lambda x: x.decode('utf-8') if isinstance(x, bytes) else x)\n",
    "df_group['ended_at'] = df_group['ended_at'].apply(lambda x: x.decode('utf-8') if isinstance(x, bytes) else x)"
   ]
  },
  {
   "cell_type": "code",
   "execution_count": 9,
   "id": "5e17e25d-408a-4270-a3a9-57ce628082ed",
   "metadata": {},
   "outputs": [
    {
     "name": "stdout",
     "output_type": "stream",
     "text": [
      "started_at    1\n",
      "ended_at      1\n",
      "value         1\n",
      "dtype: int64\n"
     ]
    }
   ],
   "source": [
    "print(df_group.applymap(type).nunique())"
   ]
  },
  {
   "cell_type": "code",
   "execution_count": 10,
   "id": "28c82862-4f5a-4b35-b093-c9ab30321d89",
   "metadata": {},
   "outputs": [],
   "source": [
    "df_group['started_at'] = df_group['started_at'].str.strip()\n",
    "df_group['ended_at'] = df_group['ended_at'].str.strip()"
   ]
  },
  {
   "cell_type": "code",
   "execution_count": 11,
   "id": "c62b8760-f8dc-451e-b9eb-251e19d43ea8",
   "metadata": {},
   "outputs": [],
   "source": [
    "df_group.dropna(subset=['started_at', 'ended_at'], inplace=True)"
   ]
  },
  {
   "cell_type": "code",
   "execution_count": 15,
   "id": "6ebe8d51",
   "metadata": {},
   "outputs": [
    {
     "name": "stdout",
     "output_type": "stream",
     "text": [
      "User Guide: https://docs.kepler.gl/docs/keplergl-jupyter\n"
     ]
    },
    {
     "name": "stderr",
     "output_type": "stream",
     "text": [
      "c:\\Users\\Kathe\\anaconda3\\envs\\newenv\\lib\\site-packages\\IPython\\core\\formatters.py:367: FormatterWarning: text/html formatter returned invalid type <class 'bytes'> (expected <class 'str'>) for object: KeplerGl()\n",
      "  warnings.warn(\n"
     ]
    },
    {
     "data": {
      "application/vnd.jupyter.widget-view+json": {
       "model_id": "5fc4b51dabc54f58b1d5ff66e1d05c61",
       "version_major": 2,
       "version_minor": 0
      },
      "text/plain": [
       "KeplerGl()"
      ]
     },
     "execution_count": 15,
     "metadata": {},
     "output_type": "execute_result"
    }
   ],
   "source": [
    "# Load an empty map\n",
    "from keplergl import KeplerGl\n",
    "map_1 = KeplerGl()\n",
    "map_1"
   ]
  },
  {
   "cell_type": "code",
   "execution_count": 16,
   "id": "1cd1769c",
   "metadata": {},
   "outputs": [
    {
     "ename": "NameError",
     "evalue": "name 'config' is not defined",
     "output_type": "error",
     "traceback": [
      "\u001b[1;31m---------------------------------------------------------------------------\u001b[0m",
      "\u001b[1;31mNameError\u001b[0m                                 Traceback (most recent call last)",
      "Cell \u001b[1;32mIn[16], line 3\u001b[0m\n\u001b[0;32m      1\u001b[0m \u001b[38;5;66;03m# Load a map with data and config and height\u001b[39;00m\n\u001b[0;32m      2\u001b[0m \u001b[38;5;28;01mfrom\u001b[39;00m \u001b[38;5;21;01mkeplergl\u001b[39;00m \u001b[38;5;28;01mimport\u001b[39;00m KeplerGl\n\u001b[1;32m----> 3\u001b[0m map_2 \u001b[38;5;241m=\u001b[39m KeplerGl(height\u001b[38;5;241m=\u001b[39m\u001b[38;5;241m400\u001b[39m, data\u001b[38;5;241m=\u001b[39m{\u001b[38;5;124m\"\u001b[39m\u001b[38;5;124mdata_1\u001b[39m\u001b[38;5;124m\"\u001b[39m: df_group}, config\u001b[38;5;241m=\u001b[39m\u001b[43mconfig\u001b[49m)\n\u001b[0;32m      4\u001b[0m map_2\n",
      "\u001b[1;31mNameError\u001b[0m: name 'config' is not defined"
     ]
    }
   ],
   "source": [
    "# Load a map with data and config and height\n",
    "from keplergl import KeplerGl\n",
    "map_2 = KeplerGl(height=400, data={\"data_1\": df_group}, config=config)\n",
    "map_2"
   ]
  },
  {
   "cell_type": "markdown",
   "id": "05f17183",
   "metadata": {},
   "source": []
  },
  {
   "cell_type": "code",
   "execution_count": null,
   "id": "6b30ef3f",
   "metadata": {},
   "outputs": [],
   "source": []
  },
  {
   "cell_type": "markdown",
   "id": "bd175d27",
   "metadata": {},
   "source": []
  }
 ],
 "metadata": {
  "kernelspec": {
   "display_name": "Python (newenv)",
   "language": "python",
   "name": "newenv"
  },
  "language_info": {
   "codemirror_mode": {
    "name": "ipython",
    "version": 3
   },
   "file_extension": ".py",
   "mimetype": "text/x-python",
   "name": "python",
   "nbconvert_exporter": "python",
   "pygments_lexer": "ipython3",
   "version": "3.8.15"
  }
 },
 "nbformat": 4,
 "nbformat_minor": 5
}
