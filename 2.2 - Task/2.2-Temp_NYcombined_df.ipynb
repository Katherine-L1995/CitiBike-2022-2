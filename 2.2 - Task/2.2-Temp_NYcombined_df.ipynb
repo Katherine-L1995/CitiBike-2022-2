{
 "cells": [
  {
   "cell_type": "code",
   "execution_count": 1,
   "id": "28866be6-7a50-4a5e-9c25-ffb6ae558791",
   "metadata": {},
   "outputs": [],
   "source": [
    "import pandas as pd\n",
    "import numpy as np\n",
    "import os\n",
    "import requests\n",
    "import json\n",
    "from datetime import datetime"
   ]
  },
  {
   "cell_type": "code",
   "execution_count": 2,
   "id": "3353652c-b00b-4a6a-af43-203278fa8fe2",
   "metadata": {},
   "outputs": [],
   "source": [
    "import zipfile"
   ]
  },
  {
   "cell_type": "code",
   "execution_count": 3,
   "id": "931584ee-658a-4013-a2cb-52c637655be2",
   "metadata": {},
   "outputs": [
    {
     "name": "stdout",
     "output_type": "stream",
     "text": [
      "Multiple files found in C:\\Users\\Kathe\\Documents\\Data Visualizations - Chapter 2\\CitiBike---2022---Data-Visualizations\\2022-citibike-tripdata\\202201-citibike-tripdata.zip: ['202201-citibike-tripdata_2.csv', '202201-citibike-tripdata_1.csv']. Please specify which one to read.\n",
      "Multiple files found in C:\\Users\\Kathe\\Documents\\Data Visualizations - Chapter 2\\CitiBike---2022---Data-Visualizations\\2022-citibike-tripdata\\202202-citibike-tripdata.zip: ['202202-citibike-tripdata_1.csv', '202202-citibike-tripdata_2.csv']. Please specify which one to read.\n",
      "Multiple files found in C:\\Users\\Kathe\\Documents\\Data Visualizations - Chapter 2\\CitiBike---2022---Data-Visualizations\\2022-citibike-tripdata\\202203-citibike-tripdata.zip: ['202203-citibike-tripdata_2.csv', '202203-citibike-tripdata_1.csv']. Please specify which one to read.\n",
      "Multiple files found in C:\\Users\\Kathe\\Documents\\Data Visualizations - Chapter 2\\CitiBike---2022---Data-Visualizations\\2022-citibike-tripdata\\202204-citibike-tripdata.zip: ['202204-citibike-tripdata_1.csv', '202204-citibike-tripdata_2.csv', '202204-citibike-tripdata_3.csv']. Please specify which one to read.\n",
      "Multiple files found in C:\\Users\\Kathe\\Documents\\Data Visualizations - Chapter 2\\CitiBike---2022---Data-Visualizations\\2022-citibike-tripdata\\202205-citibike-tripdata.zip: ['202205-citibike-tripdata_3.csv', '202205-citibike-tripdata_2.csv', '202205-citibike-tripdata_1.csv']. Please specify which one to read.\n",
      "Multiple files found in C:\\Users\\Kathe\\Documents\\Data Visualizations - Chapter 2\\CitiBike---2022---Data-Visualizations\\2022-citibike-tripdata\\202206-citibike-tripdata.zip: ['202206-citibike-tripdata_4.csv', '202206-citibike-tripdata_1.csv', '202206-citibike-tripdata_3.csv', '202206-citibike-tripdata_2.csv']. Please specify which one to read.\n",
      "Multiple files found in C:\\Users\\Kathe\\Documents\\Data Visualizations - Chapter 2\\CitiBike---2022---Data-Visualizations\\2022-citibike-tripdata\\202207-citibike-tripdata.zip: ['202207-citibike-tripdata_2.csv', '202207-citibike-tripdata_3.csv', '202207-citibike-tripdata_1.csv', '202207-citibike-tripdata_4.csv']. Please specify which one to read.\n",
      "Multiple files found in C:\\Users\\Kathe\\Documents\\Data Visualizations - Chapter 2\\CitiBike---2022---Data-Visualizations\\2022-citibike-tripdata\\202208-citibike-tripdata.zip: ['202208-citibike-tripdata_3.csv', '202208-citibike-tripdata_2.csv', '202208-citibike-tripdata_1.csv', '202208-citibike-tripdata_4.csv']. Please specify which one to read.\n",
      "Multiple files found in C:\\Users\\Kathe\\Documents\\Data Visualizations - Chapter 2\\CitiBike---2022---Data-Visualizations\\2022-citibike-tripdata\\202209-citibike-tripdata.zip: ['202209-citibike-tripdata_4.csv', '202209-citibike-tripdata_1.csv', '202209-citibike-tripdata_2.csv', '202209-citibike-tripdata_3.csv']. Please specify which one to read.\n",
      "Multiple files found in C:\\Users\\Kathe\\Documents\\Data Visualizations - Chapter 2\\CitiBike---2022---Data-Visualizations\\2022-citibike-tripdata\\202210-citibike-tripdata.zip: ['202210-citibike-tripdata_1.csv', '202210-citibike-tripdata_2.csv', '202210-citibike-tripdata_3.csv']. Please specify which one to read.\n",
      "Multiple files found in C:\\Users\\Kathe\\Documents\\Data Visualizations - Chapter 2\\CitiBike---2022---Data-Visualizations\\2022-citibike-tripdata\\202211-citibike-tripdata.zip: ['202211-citibike-tripdata_3.csv', '202211-citibike-tripdata_2.csv', '202211-citibike-tripdata_1.csv']. Please specify which one to read.\n",
      "Multiple files found in C:\\Users\\Kathe\\Documents\\Data Visualizations - Chapter 2\\CitiBike---2022---Data-Visualizations\\2022-citibike-tripdata\\202212-citibike-tripdata.zip: ['202212-citibike-tripdata_1.csv', '202212-citibike-tripdata_2.csv']. Please specify which one to read.\n",
      "No valid files were found and read.\n",
      "\n",
      "Valid files loaded:\n"
     ]
    }
   ],
   "source": [
    "import pandas as pd\n",
    "import os\n",
    "import zipfile\n",
    "\n",
    "# List of zip file paths for each month from January 2022 to December 2022\n",
    "file_paths = [\n",
    "    r\"C:\\Users\\Kathe\\Documents\\Data Visualizations - Chapter 2\\CitiBike---2022---Data-Visualizations\\2022-citibike-tripdata\\202201-citibike-tripdata.zip\",\n",
    "    r\"C:\\Users\\Kathe\\Documents\\Data Visualizations - Chapter 2\\CitiBike---2022---Data-Visualizations\\2022-citibike-tripdata\\202202-citibike-tripdata.zip\",\n",
    "    r\"C:\\Users\\Kathe\\Documents\\Data Visualizations - Chapter 2\\CitiBike---2022---Data-Visualizations\\2022-citibike-tripdata\\202203-citibike-tripdata.zip\",\n",
    "    r\"C:\\Users\\Kathe\\Documents\\Data Visualizations - Chapter 2\\CitiBike---2022---Data-Visualizations\\2022-citibike-tripdata\\202204-citibike-tripdata.zip\",\n",
    "    r\"C:\\Users\\Kathe\\Documents\\Data Visualizations - Chapter 2\\CitiBike---2022---Data-Visualizations\\2022-citibike-tripdata\\202205-citibike-tripdata.zip\",\n",
    "    r\"C:\\Users\\Kathe\\Documents\\Data Visualizations - Chapter 2\\CitiBike---2022---Data-Visualizations\\2022-citibike-tripdata\\202206-citibike-tripdata.zip\",\n",
    "    r\"C:\\Users\\Kathe\\Documents\\Data Visualizations - Chapter 2\\CitiBike---2022---Data-Visualizations\\2022-citibike-tripdata\\202207-citibike-tripdata.zip\",\n",
    "    r\"C:\\Users\\Kathe\\Documents\\Data Visualizations - Chapter 2\\CitiBike---2022---Data-Visualizations\\2022-citibike-tripdata\\202208-citibike-tripdata.zip\",\n",
    "    r\"C:\\Users\\Kathe\\Documents\\Data Visualizations - Chapter 2\\CitiBike---2022---Data-Visualizations\\2022-citibike-tripdata\\202209-citibike-tripdata.zip\",\n",
    "    r\"C:\\Users\\Kathe\\Documents\\Data Visualizations - Chapter 2\\CitiBike---2022---Data-Visualizations\\2022-citibike-tripdata\\202210-citibike-tripdata.zip\",\n",
    "    r\"C:\\Users\\Kathe\\Documents\\Data Visualizations - Chapter 2\\CitiBike---2022---Data-Visualizations\\2022-citibike-tripdata\\202211-citibike-tripdata.zip\",\n",
    "    r\"C:\\Users\\Kathe\\Documents\\Data Visualizations - Chapter 2\\CitiBike---2022---Data-Visualizations\\2022-citibike-tripdata\\202212-citibike-tripdata.zip\"\n",
    "]\n",
    "\n",
    "# List to hold dataframes\n",
    "dfs = []\n",
    "valid_files = []  # To store valid files\n",
    "\n",
    "# Loop through the file paths and load each ZIP file\n",
    "for file_path in file_paths:\n",
    "    if os.path.exists(file_path):  # Check if the ZIP file exists\n",
    "        try:\n",
    "            with zipfile.ZipFile(file_path, 'r') as zip_ref:\n",
    "                zip_names = zip_ref.namelist()  # List all files inside the ZIP archive\n",
    "                if len(zip_names) == 1:  # If there's only one file in the ZIP, read it\n",
    "                    df = pd.read_csv(zip_ref.open(zip_names[0]))\n",
    "                    dfs.append(df)  # Add the dataframe to the list\n",
    "                    valid_files.append(file_path)  # Add valid file to the list\n",
    "                else:\n",
    "                    print(f\"Multiple files found in {file_path}: {zip_names}. Please specify which one to read.\")\n",
    "        except Exception as e:\n",
    "            print(f\"Error reading {file_path}: {e}\")\n",
    "    else:\n",
    "        print(f\"File not found: {file_path}\")  # Print a message if the file doesn't exist\n",
    "\n",
    "# Concatenate all dataframes into one if there are any valid files\n",
    "if dfs:\n",
    "    NYcombined_df = pd.concat(dfs, ignore_index=True)\n",
    "    print(NYcombined_df.head())  # Print the first few rows to check the data\n",
    "    # Save the combined DataFrame to a CSV file\n",
    "    NYcombined_df.to_csv('NYcombined_df.csv', index=False)\n",
    "else:\n",
    "    print(\"No valid files were found and read.\")\n",
    "\n",
    "# Output the valid files\n",
    "print(\"\\nValid files loaded:\")\n",
    "for file in valid_files:\n",
    "    print(file)"
   ]
  },
  {
   "cell_type": "code",
   "execution_count": 8,
   "id": "34dea953-e41c-4050-baaf-371845b90a19",
   "metadata": {},
   "outputs": [],
   "source": [
    "NYcombined_df = pd.read_csv(\"C:\\\\Users\\\\Kathe\\\\Documents\\\\Data Visualizations - Chapter 2\\\\CitiBike---2022---Data-Visualizations\\\\NYcombined_df.csv\", low_memory=False)"
   ]
  },
  {
   "cell_type": "code",
   "execution_count": 9,
   "id": "e8ca5c6b-8ff1-40ea-9c5b-affa781a6ead",
   "metadata": {},
   "outputs": [
    {
     "name": "stdout",
     "output_type": "stream",
     "text": [
      "            ride_id  rideable_type               started_at  \\\n",
      "0  AFF00488F6884812   classic_bike  2022-06-10 00:06:59.429   \n",
      "1  B5AA58B0869AF13A   classic_bike  2022-06-26 15:36:50.059   \n",
      "2  0F59C51ED66EA16B  electric_bike  2022-06-23 10:12:57.064   \n",
      "3  6470F525E106F873  electric_bike  2022-06-29 19:07:47.175   \n",
      "4  17B30AB7CFAAA9F0   classic_bike  2022-06-18 13:37:03.964   \n",
      "\n",
      "                  ended_at             start_station_name start_station_id  \\\n",
      "0  2022-06-10 00:16:59.379                Ave A & E 11 St          5703.13   \n",
      "1  2022-06-26 15:59:31.498           Stagg St & Union Ave          5117.05   \n",
      "2  2022-06-23 10:22:43.295  North Moore St & Greenwich St          5470.12   \n",
      "3  2022-06-29 19:20:40.179          Spruce St & Nassau St          5137.10   \n",
      "4  2022-06-18 13:41:42.544                E 14 St & 1 Ave          5779.10   \n",
      "\n",
      "                  end_station_name end_station_id  start_lat  start_lng  \\\n",
      "0                  E 25 St & 1 Ave        6004.07  40.728547 -73.981759   \n",
      "1          Franklin St & Dupont St        5944.01  40.708771 -73.950953   \n",
      "2              Mott St & Prince St        5561.04  40.720195 -74.010301   \n",
      "3  Columbia Heights & Cranberry St        4829.01  40.711464 -74.005524   \n",
      "4                  E 25 St & 1 Ave        6004.07  40.731393 -73.982867   \n",
      "\n",
      "     end_lat    end_lng member_casual  \n",
      "0  40.738177 -73.977387        member  \n",
      "1  40.735640 -73.958660        member  \n",
      "2  40.723180 -73.994800        member  \n",
      "3  40.700379 -73.995481        member  \n",
      "4  40.738177 -73.977387        member  \n"
     ]
    }
   ],
   "source": [
    "print(NYcombined_df.head())"
   ]
  },
  {
   "cell_type": "code",
   "execution_count": 10,
   "id": "acbaa579-f505-4c30-a6b6-38834223808e",
   "metadata": {},
   "outputs": [
    {
     "name": "stdout",
     "output_type": "stream",
     "text": [
      "Index(['ride_id', 'rideable_type', 'started_at', 'ended_at',\n",
      "       'start_station_name', 'start_station_id', 'end_station_name',\n",
      "       'end_station_id', 'start_lat', 'start_lng', 'end_lat', 'end_lng',\n",
      "       'member_casual'],\n",
      "      dtype='object')\n"
     ]
    }
   ],
   "source": [
    "print(NYcombined_df.columns)"
   ]
  },
  {
   "cell_type": "code",
   "execution_count": 11,
   "id": "46755af1-76b4-48b2-8ea2-3e3e022fcc8f",
   "metadata": {},
   "outputs": [
    {
     "name": "stdout",
     "output_type": "stream",
     "text": [
      "['5703.13' '5117.05' '5470.12' ... '8281.06' '7803.03' '6110.01']\n",
      "['6004.07' '5944.01' '5561.04' ... '4632.1' '7948.1' '8153.1']\n"
     ]
    }
   ],
   "source": [
    "print(NYcombined_df['start_station_id'].unique())\n",
    "print(NYcombined_df['end_station_id'].unique())"
   ]
  },
  {
   "cell_type": "code",
   "execution_count": 12,
   "id": "da8fd71b-f182-4bb2-aa07-37dc157e6229",
   "metadata": {},
   "outputs": [],
   "source": [
    "NYcombined_df['start_station_id'] = pd.to_numeric(NYcombined_df['start_station_id'], errors='coerce')\n",
    "NYcombined_df['end_station_id'] = pd.to_numeric(NYcombined_df['end_station_id'], errors='coerce')"
   ]
  },
  {
   "cell_type": "code",
   "execution_count": 13,
   "id": "ac8db457-64f2-4cd9-88d1-3a67a01984ac",
   "metadata": {},
   "outputs": [
    {
     "name": "stdout",
     "output_type": "stream",
     "text": [
      "200\n",
      "{'metadata': {'resultset': {'offset': 1, 'count': 365, 'limit': 1000}}, 'results': [{'date': '2022-01-01T00:00:00', 'datatype': 'TAVG', 'station': 'GHCND:USW00094846', 'attributes': 'H,,S,', 'value': 20}, {'date': '2022-01-02T00:00:00', 'datatype': 'TAVG', 'station': 'GHCND:USW00094846', 'attributes': 'H,,S,', 'value': -46}, {'date': '2022-01-03T00:00:00', 'datatype': 'TAVG', 'station': 'GHCND:USW00094846', 'attributes': 'H,,S,', 'value': -92}, {'date': '2022-01-04T00:00:00', 'datatype': 'TAVG', 'station': 'GHCND:USW00094846', 'attributes': 'H,,S,', 'value': -36}, {'date': '2022-01-05T00:00:00', 'datatype': 'TAVG', 'station': 'GHCND:USW00094846', 'attributes': 'H,,S,', 'value': -46}, {'date': '2022-01-06T00:00:00', 'datatype': 'TAVG', 'station': 'GHCND:USW00094846', 'attributes': 'H,,S,', 'value': -117}, {'date': '2022-01-07T00:00:00', 'datatype': 'TAVG', 'station': 'GHCND:USW00094846', 'attributes': 'H,,S,', 'value': -144}, {'date': '2022-01-08T00:00:00', 'datatype': 'TAVG', 'station': 'GHCND:USW00094846', 'attributes': 'H,,S,', 'value': -80}, {'date': '2022-01-09T00:00:00', 'datatype': 'TAVG', 'station': 'GHCND:USW00094846', 'attributes': 'H,,S,', 'value': -24}, {'date': '2022-01-10T00:00:00', 'datatype': 'TAVG', 'station': 'GHCND:USW00094846', 'attributes': 'H,,S,', 'value': -106}, {'date': '2022-01-11T00:00:00', 'datatype': 'TAVG', 'station': 'GHCND:USW00094846', 'attributes': 'H,,S,', 'value': -105}, {'date': '2022-01-12T00:00:00', 'datatype': 'TAVG', 'station': 'GHCND:USW00094846', 'attributes': 'H,,S,', 'value': 23}, {'date': '2022-01-13T00:00:00', 'datatype': 'TAVG', 'station': 'GHCND:USW00094846', 'attributes': 'H,,S,', 'value': 19}, {'date': '2022-01-14T00:00:00', 'datatype': 'TAVG', 'station': 'GHCND:USW00094846', 'attributes': 'H,,S,', 'value': 8}, {'date': '2022-01-15T00:00:00', 'datatype': 'TAVG', 'station': 'GHCND:USW00094846', 'attributes': 'H,,S,', 'value': -40}, {'date': '2022-01-16T00:00:00', 'datatype': 'TAVG', 'station': 'GHCND:USW00094846', 'attributes': 'H,,S,', 'value': -69}, {'date': '2022-01-17T00:00:00', 'datatype': 'TAVG', 'station': 'GHCND:USW00094846', 'attributes': 'H,,S,', 'value': -38}, {'date': '2022-01-18T00:00:00', 'datatype': 'TAVG', 'station': 'GHCND:USW00094846', 'attributes': 'H,,S,', 'value': -20}, {'date': '2022-01-19T00:00:00', 'datatype': 'TAVG', 'station': 'GHCND:USW00094846', 'attributes': 'H,,S,', 'value': -11}, {'date': '2022-01-20T00:00:00', 'datatype': 'TAVG', 'station': 'GHCND:USW00094846', 'attributes': 'H,,S,', 'value': -109}, {'date': '2022-01-21T00:00:00', 'datatype': 'TAVG', 'station': 'GHCND:USW00094846', 'attributes': 'H,,S,', 'value': -100}, {'date': '2022-01-22T00:00:00', 'datatype': 'TAVG', 'station': 'GHCND:USW00094846', 'attributes': 'H,,S,', 'value': -50}, {'date': '2022-01-23T00:00:00', 'datatype': 'TAVG', 'station': 'GHCND:USW00094846', 'attributes': 'H,,S,', 'value': -71}, {'date': '2022-01-24T00:00:00', 'datatype': 'TAVG', 'station': 'GHCND:USW00094846', 'attributes': 'H,,S,', 'value': -86}, {'date': '2022-01-25T00:00:00', 'datatype': 'TAVG', 'station': 'GHCND:USW00094846', 'attributes': 'H,,S,', 'value': -124}, {'date': '2022-01-26T00:00:00', 'datatype': 'TAVG', 'station': 'GHCND:USW00094846', 'attributes': 'H,,S,', 'value': -166}, {'date': '2022-01-27T00:00:00', 'datatype': 'TAVG', 'station': 'GHCND:USW00094846', 'attributes': 'H,,S,', 'value': -64}, {'date': '2022-01-28T00:00:00', 'datatype': 'TAVG', 'station': 'GHCND:USW00094846', 'attributes': 'H,,S,', 'value': -58}, {'date': '2022-01-29T00:00:00', 'datatype': 'TAVG', 'station': 'GHCND:USW00094846', 'attributes': 'H,,S,', 'value': -101}, {'date': '2022-01-30T00:00:00', 'datatype': 'TAVG', 'station': 'GHCND:USW00094846', 'attributes': 'H,,S,', 'value': -63}, {'date': '2022-01-31T00:00:00', 'datatype': 'TAVG', 'station': 'GHCND:USW00094846', 'attributes': 'H,,S,', 'value': -19}, {'date': '2022-02-01T00:00:00', 'datatype': 'TAVG', 'station': 'GHCND:USW00094846', 'attributes': 'H,,S,', 'value': 28}, {'date': '2022-02-02T00:00:00', 'datatype': 'TAVG', 'station': 'GHCND:USW00094846', 'attributes': 'H,,S,', 'value': -34}, {'date': '2022-02-03T00:00:00', 'datatype': 'TAVG', 'station': 'GHCND:USW00094846', 'attributes': 'H,,S,', 'value': -78}, {'date': '2022-02-04T00:00:00', 'datatype': 'TAVG', 'station': 'GHCND:USW00094846', 'attributes': 'H,,S,', 'value': -74}, {'date': '2022-02-05T00:00:00', 'datatype': 'TAVG', 'station': 'GHCND:USW00094846', 'attributes': 'H,,S,', 'value': -108}, {'date': '2022-02-06T00:00:00', 'datatype': 'TAVG', 'station': 'GHCND:USW00094846', 'attributes': 'H,,S,', 'value': -54}, {'date': '2022-02-07T00:00:00', 'datatype': 'TAVG', 'station': 'GHCND:USW00094846', 'attributes': 'H,,S,', 'value': -37}, {'date': '2022-02-08T00:00:00', 'datatype': 'TAVG', 'station': 'GHCND:USW00094846', 'attributes': 'H,,S,', 'value': -44}, {'date': '2022-02-09T00:00:00', 'datatype': 'TAVG', 'station': 'GHCND:USW00094846', 'attributes': 'H,,S,', 'value': 24}, {'date': '2022-02-10T00:00:00', 'datatype': 'TAVG', 'station': 'GHCND:USW00094846', 'attributes': 'H,,S,', 'value': -1}, {'date': '2022-02-11T00:00:00', 'datatype': 'TAVG', 'station': 'GHCND:USW00094846', 'attributes': 'H,,S,', 'value': 24}, {'date': '2022-02-12T00:00:00', 'datatype': 'TAVG', 'station': 'GHCND:USW00094846', 'attributes': 'H,,S,', 'value': -58}, {'date': '2022-02-13T00:00:00', 'datatype': 'TAVG', 'station': 'GHCND:USW00094846', 'attributes': 'H,,S,', 'value': -92}, {'date': '2022-02-14T00:00:00', 'datatype': 'TAVG', 'station': 'GHCND:USW00094846', 'attributes': 'H,,S,', 'value': -84}, {'date': '2022-02-15T00:00:00', 'datatype': 'TAVG', 'station': 'GHCND:USW00094846', 'attributes': 'H,,S,', 'value': -22}, {'date': '2022-02-16T00:00:00', 'datatype': 'TAVG', 'station': 'GHCND:USW00094846', 'attributes': 'H,,S,', 'value': 76}, {'date': '2022-02-17T00:00:00', 'datatype': 'TAVG', 'station': 'GHCND:USW00094846', 'attributes': 'H,,S,', 'value': 18}, {'date': '2022-02-18T00:00:00', 'datatype': 'TAVG', 'station': 'GHCND:USW00094846', 'attributes': 'H,,S,', 'value': -83}, {'date': '2022-02-19T00:00:00', 'datatype': 'TAVG', 'station': 'GHCND:USW00094846', 'attributes': 'H,,S,', 'value': -71}, {'date': '2022-02-20T00:00:00', 'datatype': 'TAVG', 'station': 'GHCND:USW00094846', 'attributes': 'H,,S,', 'value': -14}, {'date': '2022-02-21T00:00:00', 'datatype': 'TAVG', 'station': 'GHCND:USW00094846', 'attributes': 'H,,S,', 'value': 42}, {'date': '2022-02-22T00:00:00', 'datatype': 'TAVG', 'station': 'GHCND:USW00094846', 'attributes': 'H,,S,', 'value': 34}, {'date': '2022-02-23T00:00:00', 'datatype': 'TAVG', 'station': 'GHCND:USW00094846', 'attributes': 'H,,S,', 'value': -59}, {'date': '2022-02-24T00:00:00', 'datatype': 'TAVG', 'station': 'GHCND:USW00094846', 'attributes': 'H,,S,', 'value': -46}, {'date': '2022-02-25T00:00:00', 'datatype': 'TAVG', 'station': 'GHCND:USW00094846', 'attributes': 'H,,S,', 'value': -37}, {'date': '2022-02-26T00:00:00', 'datatype': 'TAVG', 'station': 'GHCND:USW00094846', 'attributes': 'H,,S,', 'value': -62}, {'date': '2022-02-27T00:00:00', 'datatype': 'TAVG', 'station': 'GHCND:USW00094846', 'attributes': 'H,,S,', 'value': 2}, {'date': '2022-02-28T00:00:00', 'datatype': 'TAVG', 'station': 'GHCND:USW00094846', 'attributes': 'H,,S,', 'value': 26}, {'date': '2022-03-01T00:00:00', 'datatype': 'TAVG', 'station': 'GHCND:USW00094846', 'attributes': 'H,,S,', 'value': 69}, {'date': '2022-03-02T00:00:00', 'datatype': 'TAVG', 'station': 'GHCND:USW00094846', 'attributes': 'H,,S,', 'value': 52}, {'date': '2022-03-03T00:00:00', 'datatype': 'TAVG', 'station': 'GHCND:USW00094846', 'attributes': 'H,,S,', 'value': 11}, {'date': '2022-03-04T00:00:00', 'datatype': 'TAVG', 'station': 'GHCND:USW00094846', 'attributes': 'H,,S,', 'value': 6}, {'date': '2022-03-05T00:00:00', 'datatype': 'TAVG', 'station': 'GHCND:USW00094846', 'attributes': 'H,,S,', 'value': 92}, {'date': '2022-03-06T00:00:00', 'datatype': 'TAVG', 'station': 'GHCND:USW00094846', 'attributes': 'H,,S,', 'value': 86}, {'date': '2022-03-07T00:00:00', 'datatype': 'TAVG', 'station': 'GHCND:USW00094846', 'attributes': 'H,,S,', 'value': 13}, {'date': '2022-03-08T00:00:00', 'datatype': 'TAVG', 'station': 'GHCND:USW00094846', 'attributes': 'H,,S,', 'value': 1}, {'date': '2022-03-09T00:00:00', 'datatype': 'TAVG', 'station': 'GHCND:USW00094846', 'attributes': 'H,,S,', 'value': 13}, {'date': '2022-03-10T00:00:00', 'datatype': 'TAVG', 'station': 'GHCND:USW00094846', 'attributes': 'H,,S,', 'value': -23}, {'date': '2022-03-11T00:00:00', 'datatype': 'TAVG', 'station': 'GHCND:USW00094846', 'attributes': 'H,,S,', 'value': -43}, {'date': '2022-03-12T00:00:00', 'datatype': 'TAVG', 'station': 'GHCND:USW00094846', 'attributes': 'H,,S,', 'value': -81}, {'date': '2022-03-13T00:00:00', 'datatype': 'TAVG', 'station': 'GHCND:USW00094846', 'attributes': 'H,,S,', 'value': -3}, {'date': '2022-03-14T00:00:00', 'datatype': 'TAVG', 'station': 'GHCND:USW00094846', 'attributes': 'H,,S,', 'value': 91}, {'date': '2022-03-15T00:00:00', 'datatype': 'TAVG', 'station': 'GHCND:USW00094846', 'attributes': 'H,,S,', 'value': 62}, {'date': '2022-03-16T00:00:00', 'datatype': 'TAVG', 'station': 'GHCND:USW00094846', 'attributes': 'H,,S,', 'value': 97}, {'date': '2022-03-17T00:00:00', 'datatype': 'TAVG', 'station': 'GHCND:USW00094846', 'attributes': 'H,,S,', 'value': 146}, {'date': '2022-03-18T00:00:00', 'datatype': 'TAVG', 'station': 'GHCND:USW00094846', 'attributes': 'H,,S,', 'value': 70}, {'date': '2022-03-19T00:00:00', 'datatype': 'TAVG', 'station': 'GHCND:USW00094846', 'attributes': 'H,,S,', 'value': 43}, {'date': '2022-03-20T00:00:00', 'datatype': 'TAVG', 'station': 'GHCND:USW00094846', 'attributes': 'H,,S,', 'value': 74}, {'date': '2022-03-21T00:00:00', 'datatype': 'TAVG', 'station': 'GHCND:USW00094846', 'attributes': 'H,,S,', 'value': 133}, {'date': '2022-03-22T00:00:00', 'datatype': 'TAVG', 'station': 'GHCND:USW00094846', 'attributes': 'H,,S,', 'value': 121}, {'date': '2022-03-23T00:00:00', 'datatype': 'TAVG', 'station': 'GHCND:USW00094846', 'attributes': 'H,,S,', 'value': 110}, {'date': '2022-03-24T00:00:00', 'datatype': 'TAVG', 'station': 'GHCND:USW00094846', 'attributes': 'H,,S,', 'value': 73}, {'date': '2022-03-25T00:00:00', 'datatype': 'TAVG', 'station': 'GHCND:USW00094846', 'attributes': 'H,,S,', 'value': 52}, {'date': '2022-03-26T00:00:00', 'datatype': 'TAVG', 'station': 'GHCND:USW00094846', 'attributes': 'H,,S,', 'value': 7}, {'date': '2022-03-27T00:00:00', 'datatype': 'TAVG', 'station': 'GHCND:USW00094846', 'attributes': 'H,,S,', 'value': -17}, {'date': '2022-03-28T00:00:00', 'datatype': 'TAVG', 'station': 'GHCND:USW00094846', 'attributes': 'H,,S,', 'value': -19}, {'date': '2022-03-29T00:00:00', 'datatype': 'TAVG', 'station': 'GHCND:USW00094846', 'attributes': 'H,,S,', 'value': 8}, {'date': '2022-03-30T00:00:00', 'datatype': 'TAVG', 'station': 'GHCND:USW00094846', 'attributes': 'H,,S,', 'value': 100}, {'date': '2022-03-31T00:00:00', 'datatype': 'TAVG', 'station': 'GHCND:USW00094846', 'attributes': 'H,,S,', 'value': 67}, {'date': '2022-04-01T00:00:00', 'datatype': 'TAVG', 'station': 'GHCND:USW00094846', 'attributes': 'H,,S,', 'value': 26}, {'date': '2022-04-02T00:00:00', 'datatype': 'TAVG', 'station': 'GHCND:USW00094846', 'attributes': 'H,,S,', 'value': 24}, {'date': '2022-04-03T00:00:00', 'datatype': 'TAVG', 'station': 'GHCND:USW00094846', 'attributes': 'H,,S,', 'value': 44}, {'date': '2022-04-04T00:00:00', 'datatype': 'TAVG', 'station': 'GHCND:USW00094846', 'attributes': 'H,,S,', 'value': 67}, {'date': '2022-04-05T00:00:00', 'datatype': 'TAVG', 'station': 'GHCND:USW00094846', 'attributes': 'H,,S,', 'value': 75}, {'date': '2022-04-06T00:00:00', 'datatype': 'TAVG', 'station': 'GHCND:USW00094846', 'attributes': 'H,,S,', 'value': 107}, {'date': '2022-04-07T00:00:00', 'datatype': 'TAVG', 'station': 'GHCND:USW00094846', 'attributes': 'H,,S,', 'value': 61}, {'date': '2022-04-08T00:00:00', 'datatype': 'TAVG', 'station': 'GHCND:USW00094846', 'attributes': 'H,,S,', 'value': 37}, {'date': '2022-04-09T00:00:00', 'datatype': 'TAVG', 'station': 'GHCND:USW00094846', 'attributes': 'H,,S,', 'value': 38}, {'date': '2022-04-10T00:00:00', 'datatype': 'TAVG', 'station': 'GHCND:USW00094846', 'attributes': 'H,,S,', 'value': 73}, {'date': '2022-04-11T00:00:00', 'datatype': 'TAVG', 'station': 'GHCND:USW00094846', 'attributes': 'H,,S,', 'value': 138}, {'date': '2022-04-12T00:00:00', 'datatype': 'TAVG', 'station': 'GHCND:USW00094846', 'attributes': 'H,,S,', 'value': 128}, {'date': '2022-04-13T00:00:00', 'datatype': 'TAVG', 'station': 'GHCND:USW00094846', 'attributes': 'H,,S,', 'value': 191}, {'date': '2022-04-14T00:00:00', 'datatype': 'TAVG', 'station': 'GHCND:USW00094846', 'attributes': 'H,,S,', 'value': 66}, {'date': '2022-04-15T00:00:00', 'datatype': 'TAVG', 'station': 'GHCND:USW00094846', 'attributes': 'H,,S,', 'value': 76}, {'date': '2022-04-16T00:00:00', 'datatype': 'TAVG', 'station': 'GHCND:USW00094846', 'attributes': 'H,,S,', 'value': 49}, {'date': '2022-04-17T00:00:00', 'datatype': 'TAVG', 'station': 'GHCND:USW00094846', 'attributes': 'H,,S,', 'value': 27}, {'date': '2022-04-18T00:00:00', 'datatype': 'TAVG', 'station': 'GHCND:USW00094846', 'attributes': 'H,,S,', 'value': 25}, {'date': '2022-04-19T00:00:00', 'datatype': 'TAVG', 'station': 'GHCND:USW00094846', 'attributes': 'H,,S,', 'value': 46}, {'date': '2022-04-20T00:00:00', 'datatype': 'TAVG', 'station': 'GHCND:USW00094846', 'attributes': 'H,,S,', 'value': 74}, {'date': '2022-04-21T00:00:00', 'datatype': 'TAVG', 'station': 'GHCND:USW00094846', 'attributes': 'H,,S,', 'value': 129}, {'date': '2022-04-22T00:00:00', 'datatype': 'TAVG', 'station': 'GHCND:USW00094846', 'attributes': 'H,,S,', 'value': 112}, {'date': '2022-04-23T00:00:00', 'datatype': 'TAVG', 'station': 'GHCND:USW00094846', 'attributes': 'H,,S,', 'value': 173}, {'date': '2022-04-24T00:00:00', 'datatype': 'TAVG', 'station': 'GHCND:USW00094846', 'attributes': 'H,,S,', 'value': 213}, {'date': '2022-04-25T00:00:00', 'datatype': 'TAVG', 'station': 'GHCND:USW00094846', 'attributes': 'H,,S,', 'value': 118}, {'date': '2022-04-26T00:00:00', 'datatype': 'TAVG', 'station': 'GHCND:USW00094846', 'attributes': 'H,,S,', 'value': 59}, {'date': '2022-04-27T00:00:00', 'datatype': 'TAVG', 'station': 'GHCND:USW00094846', 'attributes': 'H,,S,', 'value': 34}, {'date': '2022-04-28T00:00:00', 'datatype': 'TAVG', 'station': 'GHCND:USW00094846', 'attributes': 'H,,S,', 'value': 56}, {'date': '2022-04-29T00:00:00', 'datatype': 'TAVG', 'station': 'GHCND:USW00094846', 'attributes': 'H,,S,', 'value': 119}, {'date': '2022-04-30T00:00:00', 'datatype': 'TAVG', 'station': 'GHCND:USW00094846', 'attributes': 'H,,S,', 'value': 142}, {'date': '2022-05-01T00:00:00', 'datatype': 'TAVG', 'station': 'GHCND:USW00094846', 'attributes': 'H,,S,', 'value': 126}, {'date': '2022-05-02T00:00:00', 'datatype': 'TAVG', 'station': 'GHCND:USW00094846', 'attributes': 'H,,S,', 'value': 99}, {'date': '2022-05-03T00:00:00', 'datatype': 'TAVG', 'station': 'GHCND:USW00094846', 'attributes': 'H,,S,', 'value': 90}, {'date': '2022-05-04T00:00:00', 'datatype': 'TAVG', 'station': 'GHCND:USW00094846', 'attributes': 'H,,S,', 'value': 78}, {'date': '2022-05-05T00:00:00', 'datatype': 'TAVG', 'station': 'GHCND:USW00094846', 'attributes': 'H,,S,', 'value': 89}, {'date': '2022-05-06T00:00:00', 'datatype': 'TAVG', 'station': 'GHCND:USW00094846', 'attributes': 'H,,S,', 'value': 93}, {'date': '2022-05-07T00:00:00', 'datatype': 'TAVG', 'station': 'GHCND:USW00094846', 'attributes': 'H,,S,', 'value': 121}, {'date': '2022-05-08T00:00:00', 'datatype': 'TAVG', 'station': 'GHCND:USW00094846', 'attributes': 'H,,S,', 'value': 123}, {'date': '2022-05-09T00:00:00', 'datatype': 'TAVG', 'station': 'GHCND:USW00094846', 'attributes': 'H,,S,', 'value': 188}, {'date': '2022-05-10T00:00:00', 'datatype': 'TAVG', 'station': 'GHCND:USW00094846', 'attributes': 'H,,S,', 'value': 251}, {'date': '2022-05-11T00:00:00', 'datatype': 'TAVG', 'station': 'GHCND:USW00094846', 'attributes': 'H,,S,', 'value': 282}, {'date': '2022-05-12T00:00:00', 'datatype': 'TAVG', 'station': 'GHCND:USW00094846', 'attributes': 'H,,S,', 'value': 275}, {'date': '2022-05-13T00:00:00', 'datatype': 'TAVG', 'station': 'GHCND:USW00094846', 'attributes': 'H,,S,', 'value': 267}, {'date': '2022-05-14T00:00:00', 'datatype': 'TAVG', 'station': 'GHCND:USW00094846', 'attributes': 'H,,S,', 'value': 252}, {'date': '2022-05-15T00:00:00', 'datatype': 'TAVG', 'station': 'GHCND:USW00094846', 'attributes': 'H,,S,', 'value': 216}, {'date': '2022-05-16T00:00:00', 'datatype': 'TAVG', 'station': 'GHCND:USW00094846', 'attributes': 'H,,S,', 'value': 184}, {'date': '2022-05-17T00:00:00', 'datatype': 'TAVG', 'station': 'GHCND:USW00094846', 'attributes': 'H,,S,', 'value': 161}, {'date': '2022-05-18T00:00:00', 'datatype': 'TAVG', 'station': 'GHCND:USW00094846', 'attributes': 'H,,S,', 'value': 129}, {'date': '2022-05-19T00:00:00', 'datatype': 'TAVG', 'station': 'GHCND:USW00094846', 'attributes': 'H,,S,', 'value': 188}, {'date': '2022-05-20T00:00:00', 'datatype': 'TAVG', 'station': 'GHCND:USW00094846', 'attributes': 'H,,S,', 'value': 239}, {'date': '2022-05-21T00:00:00', 'datatype': 'TAVG', 'station': 'GHCND:USW00094846', 'attributes': 'H,,S,', 'value': 159}, {'date': '2022-05-22T00:00:00', 'datatype': 'TAVG', 'station': 'GHCND:USW00094846', 'attributes': 'H,,S,', 'value': 142}, {'date': '2022-05-23T00:00:00', 'datatype': 'TAVG', 'station': 'GHCND:USW00094846', 'attributes': 'H,,S,', 'value': 123}, {'date': '2022-05-24T00:00:00', 'datatype': 'TAVG', 'station': 'GHCND:USW00094846', 'attributes': 'H,,S,', 'value': 137}, {'date': '2022-05-25T00:00:00', 'datatype': 'TAVG', 'station': 'GHCND:USW00094846', 'attributes': 'H,,S,', 'value': 165}, {'date': '2022-05-26T00:00:00', 'datatype': 'TAVG', 'station': 'GHCND:USW00094846', 'attributes': 'H,,S,', 'value': 223}, {'date': '2022-05-27T00:00:00', 'datatype': 'TAVG', 'station': 'GHCND:USW00094846', 'attributes': 'H,,S,', 'value': 157}, {'date': '2022-05-28T00:00:00', 'datatype': 'TAVG', 'station': 'GHCND:USW00094846', 'attributes': 'H,,S,', 'value': 161}, {'date': '2022-05-29T00:00:00', 'datatype': 'TAVG', 'station': 'GHCND:USW00094846', 'attributes': 'H,,S,', 'value': 221}, {'date': '2022-05-30T00:00:00', 'datatype': 'TAVG', 'station': 'GHCND:USW00094846', 'attributes': 'H,,S,', 'value': 258}, {'date': '2022-05-31T00:00:00', 'datatype': 'TAVG', 'station': 'GHCND:USW00094846', 'attributes': 'H,,S,', 'value': 270}, {'date': '2022-06-01T00:00:00', 'datatype': 'TAVG', 'station': 'GHCND:USW00094846', 'attributes': 'H,,S,', 'value': 227}, {'date': '2022-06-02T00:00:00', 'datatype': 'TAVG', 'station': 'GHCND:USW00094846', 'attributes': 'H,,S,', 'value': 190}, {'date': '2022-06-03T00:00:00', 'datatype': 'TAVG', 'station': 'GHCND:USW00094846', 'attributes': 'H,,S,', 'value': 210}, {'date': '2022-06-04T00:00:00', 'datatype': 'TAVG', 'station': 'GHCND:USW00094846', 'attributes': 'H,,S,', 'value': 181}, {'date': '2022-06-05T00:00:00', 'datatype': 'TAVG', 'station': 'GHCND:USW00094846', 'attributes': 'H,,S,', 'value': 188}, {'date': '2022-06-06T00:00:00', 'datatype': 'TAVG', 'station': 'GHCND:USW00094846', 'attributes': 'H,,S,', 'value': 203}, {'date': '2022-06-07T00:00:00', 'datatype': 'TAVG', 'station': 'GHCND:USW00094846', 'attributes': 'H,,S,', 'value': 166}, {'date': '2022-06-08T00:00:00', 'datatype': 'TAVG', 'station': 'GHCND:USW00094846', 'attributes': 'H,,S,', 'value': 166}, {'date': '2022-06-09T00:00:00', 'datatype': 'TAVG', 'station': 'GHCND:USW00094846', 'attributes': 'H,,S,', 'value': 170}, {'date': '2022-06-10T00:00:00', 'datatype': 'TAVG', 'station': 'GHCND:USW00094846', 'attributes': 'H,,S,', 'value': 194}, {'date': '2022-06-11T00:00:00', 'datatype': 'TAVG', 'station': 'GHCND:USW00094846', 'attributes': 'H,,S,', 'value': 185}, {'date': '2022-06-12T00:00:00', 'datatype': 'TAVG', 'station': 'GHCND:USW00094846', 'attributes': 'H,,S,', 'value': 192}, {'date': '2022-06-13T00:00:00', 'datatype': 'TAVG', 'station': 'GHCND:USW00094846', 'attributes': 'H,,S,', 'value': 209}, {'date': '2022-06-14T00:00:00', 'datatype': 'TAVG', 'station': 'GHCND:USW00094846', 'attributes': 'H,,S,', 'value': 271}, {'date': '2022-06-15T00:00:00', 'datatype': 'TAVG', 'station': 'GHCND:USW00094846', 'attributes': 'H,,S,', 'value': 315}, {'date': '2022-06-16T00:00:00', 'datatype': 'TAVG', 'station': 'GHCND:USW00094846', 'attributes': 'H,,S,', 'value': 292}, {'date': '2022-06-17T00:00:00', 'datatype': 'TAVG', 'station': 'GHCND:USW00094846', 'attributes': 'H,,S,', 'value': 260}, {'date': '2022-06-18T00:00:00', 'datatype': 'TAVG', 'station': 'GHCND:USW00094846', 'attributes': 'H,,S,', 'value': 198}, {'date': '2022-06-19T00:00:00', 'datatype': 'TAVG', 'station': 'GHCND:USW00094846', 'attributes': 'H,,S,', 'value': 191}, {'date': '2022-06-20T00:00:00', 'datatype': 'TAVG', 'station': 'GHCND:USW00094846', 'attributes': 'H,,S,', 'value': 259}, {'date': '2022-06-21T00:00:00', 'datatype': 'TAVG', 'station': 'GHCND:USW00094846', 'attributes': 'H,,S,', 'value': 297}, {'date': '2022-06-22T00:00:00', 'datatype': 'TAVG', 'station': 'GHCND:USW00094846', 'attributes': 'H,,S,', 'value': 293}, {'date': '2022-06-23T00:00:00', 'datatype': 'TAVG', 'station': 'GHCND:USW00094846', 'attributes': 'H,,S,', 'value': 250}, {'date': '2022-06-24T00:00:00', 'datatype': 'TAVG', 'station': 'GHCND:USW00094846', 'attributes': 'H,,S,', 'value': 256}, {'date': '2022-06-25T00:00:00', 'datatype': 'TAVG', 'station': 'GHCND:USW00094846', 'attributes': 'H,,S,', 'value': 236}, {'date': '2022-06-26T00:00:00', 'datatype': 'TAVG', 'station': 'GHCND:USW00094846', 'attributes': 'H,,S,', 'value': 239}, {'date': '2022-06-27T00:00:00', 'datatype': 'TAVG', 'station': 'GHCND:USW00094846', 'attributes': 'H,,S,', 'value': 213}, {'date': '2022-06-28T00:00:00', 'datatype': 'TAVG', 'station': 'GHCND:USW00094846', 'attributes': 'H,,S,', 'value': 221}, {'date': '2022-06-29T00:00:00', 'datatype': 'TAVG', 'station': 'GHCND:USW00094846', 'attributes': 'H,,S,', 'value': 249}, {'date': '2022-06-30T00:00:00', 'datatype': 'TAVG', 'station': 'GHCND:USW00094846', 'attributes': 'H,,S,', 'value': 273}, {'date': '2022-07-01T00:00:00', 'datatype': 'TAVG', 'station': 'GHCND:USW00094846', 'attributes': 'H,,S,', 'value': 258}, {'date': '2022-07-02T00:00:00', 'datatype': 'TAVG', 'station': 'GHCND:USW00094846', 'attributes': 'H,,S,', 'value': 237}, {'date': '2022-07-03T00:00:00', 'datatype': 'TAVG', 'station': 'GHCND:USW00094846', 'attributes': 'H,,S,', 'value': 259}, {'date': '2022-07-04T00:00:00', 'datatype': 'TAVG', 'station': 'GHCND:USW00094846', 'attributes': 'H,,S,', 'value': 256}, {'date': '2022-07-05T00:00:00', 'datatype': 'TAVG', 'station': 'GHCND:USW00094846', 'attributes': 'H,,S,', 'value': 274}, {'date': '2022-07-06T00:00:00', 'datatype': 'TAVG', 'station': 'GHCND:USW00094846', 'attributes': 'H,,S,', 'value': 233}, {'date': '2022-07-07T00:00:00', 'datatype': 'TAVG', 'station': 'GHCND:USW00094846', 'attributes': 'H,,S,', 'value': 241}, {'date': '2022-07-08T00:00:00', 'datatype': 'TAVG', 'station': 'GHCND:USW00094846', 'attributes': 'H,,S,', 'value': 239}, {'date': '2022-07-09T00:00:00', 'datatype': 'TAVG', 'station': 'GHCND:USW00094846', 'attributes': 'H,,S,', 'value': 217}, {'date': '2022-07-10T00:00:00', 'datatype': 'TAVG', 'station': 'GHCND:USW00094846', 'attributes': 'H,,S,', 'value': 223}, {'date': '2022-07-11T00:00:00', 'datatype': 'TAVG', 'station': 'GHCND:USW00094846', 'attributes': 'H,,S,', 'value': 249}, {'date': '2022-07-12T00:00:00', 'datatype': 'TAVG', 'station': 'GHCND:USW00094846', 'attributes': 'H,,S,', 'value': 251}, {'date': '2022-07-13T00:00:00', 'datatype': 'TAVG', 'station': 'GHCND:USW00094846', 'attributes': 'H,,S,', 'value': 241}, {'date': '2022-07-14T00:00:00', 'datatype': 'TAVG', 'station': 'GHCND:USW00094846', 'attributes': 'H,,S,', 'value': 214}, {'date': '2022-07-15T00:00:00', 'datatype': 'TAVG', 'station': 'GHCND:USW00094846', 'attributes': 'H,,S,', 'value': 204}, {'date': '2022-07-16T00:00:00', 'datatype': 'TAVG', 'station': 'GHCND:USW00094846', 'attributes': 'H,,S,', 'value': 214}, {'date': '2022-07-17T00:00:00', 'datatype': 'TAVG', 'station': 'GHCND:USW00094846', 'attributes': 'H,,S,', 'value': 221}, {'date': '2022-07-18T00:00:00', 'datatype': 'TAVG', 'station': 'GHCND:USW00094846', 'attributes': 'H,,S,', 'value': 249}, {'date': '2022-07-19T00:00:00', 'datatype': 'TAVG', 'station': 'GHCND:USW00094846', 'attributes': 'H,,S,', 'value': 270}, {'date': '2022-07-20T00:00:00', 'datatype': 'TAVG', 'station': 'GHCND:USW00094846', 'attributes': 'H,,S,', 'value': 277}, {'date': '2022-07-21T00:00:00', 'datatype': 'TAVG', 'station': 'GHCND:USW00094846', 'attributes': 'H,,S,', 'value': 269}, {'date': '2022-07-22T00:00:00', 'datatype': 'TAVG', 'station': 'GHCND:USW00094846', 'attributes': 'H,,S,', 'value': 271}, {'date': '2022-07-23T00:00:00', 'datatype': 'TAVG', 'station': 'GHCND:USW00094846', 'attributes': 'H,,S,', 'value': 257}, {'date': '2022-07-24T00:00:00', 'datatype': 'TAVG', 'station': 'GHCND:USW00094846', 'attributes': 'H,,S,', 'value': 266}, {'date': '2022-07-25T00:00:00', 'datatype': 'TAVG', 'station': 'GHCND:USW00094846', 'attributes': 'H,,S,', 'value': 228}, {'date': '2022-07-26T00:00:00', 'datatype': 'TAVG', 'station': 'GHCND:USW00094846', 'attributes': 'H,,S,', 'value': 222}, {'date': '2022-07-27T00:00:00', 'datatype': 'TAVG', 'station': 'GHCND:USW00094846', 'attributes': 'H,,S,', 'value': 239}, {'date': '2022-07-28T00:00:00', 'datatype': 'TAVG', 'station': 'GHCND:USW00094846', 'attributes': 'H,,S,', 'value': 238}, {'date': '2022-07-29T00:00:00', 'datatype': 'TAVG', 'station': 'GHCND:USW00094846', 'attributes': 'H,,S,', 'value': 221}, {'date': '2022-07-30T00:00:00', 'datatype': 'TAVG', 'station': 'GHCND:USW00094846', 'attributes': 'H,,S,', 'value': 231}, {'date': '2022-07-31T00:00:00', 'datatype': 'TAVG', 'station': 'GHCND:USW00094846', 'attributes': 'H,,S,', 'value': 244}, {'date': '2022-08-01T00:00:00', 'datatype': 'TAVG', 'station': 'GHCND:USW00094846', 'attributes': 'H,,S,', 'value': 258}, {'date': '2022-08-02T00:00:00', 'datatype': 'TAVG', 'station': 'GHCND:USW00094846', 'attributes': 'H,,S,', 'value': 257}, {'date': '2022-08-03T00:00:00', 'datatype': 'TAVG', 'station': 'GHCND:USW00094846', 'attributes': 'H,,S,', 'value': 274}, {'date': '2022-08-04T00:00:00', 'datatype': 'TAVG', 'station': 'GHCND:USW00094846', 'attributes': 'H,,S,', 'value': 254}, {'date': '2022-08-05T00:00:00', 'datatype': 'TAVG', 'station': 'GHCND:USW00094846', 'attributes': 'H,,S,', 'value': 248}, {'date': '2022-08-06T00:00:00', 'datatype': 'TAVG', 'station': 'GHCND:USW00094846', 'attributes': 'H,,S,', 'value': 282}, {'date': '2022-08-07T00:00:00', 'datatype': 'TAVG', 'station': 'GHCND:USW00094846', 'attributes': 'H,,S,', 'value': 266}, {'date': '2022-08-08T00:00:00', 'datatype': 'TAVG', 'station': 'GHCND:USW00094846', 'attributes': 'H,,S,', 'value': 243}, {'date': '2022-08-09T00:00:00', 'datatype': 'TAVG', 'station': 'GHCND:USW00094846', 'attributes': 'H,,S,', 'value': 204}, {'date': '2022-08-10T00:00:00', 'datatype': 'TAVG', 'station': 'GHCND:USW00094846', 'attributes': 'H,,S,', 'value': 221}, {'date': '2022-08-11T00:00:00', 'datatype': 'TAVG', 'station': 'GHCND:USW00094846', 'attributes': 'H,,S,', 'value': 239}, {'date': '2022-08-12T00:00:00', 'datatype': 'TAVG', 'station': 'GHCND:USW00094846', 'attributes': 'H,,S,', 'value': 204}, {'date': '2022-08-13T00:00:00', 'datatype': 'TAVG', 'station': 'GHCND:USW00094846', 'attributes': 'H,,S,', 'value': 225}, {'date': '2022-08-14T00:00:00', 'datatype': 'TAVG', 'station': 'GHCND:USW00094846', 'attributes': 'H,,S,', 'value': 225}, {'date': '2022-08-15T00:00:00', 'datatype': 'TAVG', 'station': 'GHCND:USW00094846', 'attributes': 'H,,S,', 'value': 216}, {'date': '2022-08-16T00:00:00', 'datatype': 'TAVG', 'station': 'GHCND:USW00094846', 'attributes': 'H,,S,', 'value': 218}, {'date': '2022-08-17T00:00:00', 'datatype': 'TAVG', 'station': 'GHCND:USW00094846', 'attributes': 'H,,S,', 'value': 218}, {'date': '2022-08-18T00:00:00', 'datatype': 'TAVG', 'station': 'GHCND:USW00094846', 'attributes': 'H,,S,', 'value': 224}, {'date': '2022-08-19T00:00:00', 'datatype': 'TAVG', 'station': 'GHCND:USW00094846', 'attributes': 'H,,S,', 'value': 246}, {'date': '2022-08-20T00:00:00', 'datatype': 'TAVG', 'station': 'GHCND:USW00094846', 'attributes': 'H,,S,', 'value': 224}, {'date': '2022-08-21T00:00:00', 'datatype': 'TAVG', 'station': 'GHCND:USW00094846', 'attributes': 'H,,S,', 'value': 226}, {'date': '2022-08-22T00:00:00', 'datatype': 'TAVG', 'station': 'GHCND:USW00094846', 'attributes': 'H,,S,', 'value': 226}, {'date': '2022-08-23T00:00:00', 'datatype': 'TAVG', 'station': 'GHCND:USW00094846', 'attributes': 'H,,S,', 'value': 228}, {'date': '2022-08-24T00:00:00', 'datatype': 'TAVG', 'station': 'GHCND:USW00094846', 'attributes': 'H,,S,', 'value': 243}, {'date': '2022-08-25T00:00:00', 'datatype': 'TAVG', 'station': 'GHCND:USW00094846', 'attributes': 'H,,S,', 'value': 227}, {'date': '2022-08-26T00:00:00', 'datatype': 'TAVG', 'station': 'GHCND:USW00094846', 'attributes': 'H,,S,', 'value': 223}, {'date': '2022-08-27T00:00:00', 'datatype': 'TAVG', 'station': 'GHCND:USW00094846', 'attributes': 'H,,S,', 'value': 211}, {'date': '2022-08-28T00:00:00', 'datatype': 'TAVG', 'station': 'GHCND:USW00094846', 'attributes': 'H,,S,', 'value': 248}, {'date': '2022-08-29T00:00:00', 'datatype': 'TAVG', 'station': 'GHCND:USW00094846', 'attributes': 'H,,S,', 'value': 246}, {'date': '2022-08-30T00:00:00', 'datatype': 'TAVG', 'station': 'GHCND:USW00094846', 'attributes': 'H,,S,', 'value': 232}, {'date': '2022-08-31T00:00:00', 'datatype': 'TAVG', 'station': 'GHCND:USW00094846', 'attributes': 'H,,S,', 'value': 224}, {'date': '2022-09-01T00:00:00', 'datatype': 'TAVG', 'station': 'GHCND:USW00094846', 'attributes': 'H,,S,', 'value': 252}, {'date': '2022-09-02T00:00:00', 'datatype': 'TAVG', 'station': 'GHCND:USW00094846', 'attributes': 'H,,S,', 'value': 257}, {'date': '2022-09-03T00:00:00', 'datatype': 'TAVG', 'station': 'GHCND:USW00094846', 'attributes': 'H,,S,', 'value': 251}, {'date': '2022-09-04T00:00:00', 'datatype': 'TAVG', 'station': 'GHCND:USW00094846', 'attributes': 'H,,S,', 'value': 212}, {'date': '2022-09-05T00:00:00', 'datatype': 'TAVG', 'station': 'GHCND:USW00094846', 'attributes': 'H,,S,', 'value': 201}, {'date': '2022-09-06T00:00:00', 'datatype': 'TAVG', 'station': 'GHCND:USW00094846', 'attributes': 'H,,S,', 'value': 214}, {'date': '2022-09-07T00:00:00', 'datatype': 'TAVG', 'station': 'GHCND:USW00094846', 'attributes': 'H,,S,', 'value': 218}, {'date': '2022-09-08T00:00:00', 'datatype': 'TAVG', 'station': 'GHCND:USW00094846', 'attributes': 'H,,S,', 'value': 224}, {'date': '2022-09-09T00:00:00', 'datatype': 'TAVG', 'station': 'GHCND:USW00094846', 'attributes': 'H,,S,', 'value': 230}, {'date': '2022-09-10T00:00:00', 'datatype': 'TAVG', 'station': 'GHCND:USW00094846', 'attributes': 'H,,S,', 'value': 233}, {'date': '2022-09-11T00:00:00', 'datatype': 'TAVG', 'station': 'GHCND:USW00094846', 'attributes': 'H,,S,', 'value': 206}, {'date': '2022-09-12T00:00:00', 'datatype': 'TAVG', 'station': 'GHCND:USW00094846', 'attributes': 'H,,S,', 'value': 148}, {'date': '2022-09-13T00:00:00', 'datatype': 'TAVG', 'station': 'GHCND:USW00094846', 'attributes': 'H,,S,', 'value': 188}, {'date': '2022-09-14T00:00:00', 'datatype': 'TAVG', 'station': 'GHCND:USW00094846', 'attributes': 'H,,S,', 'value': 198}, {'date': '2022-09-15T00:00:00', 'datatype': 'TAVG', 'station': 'GHCND:USW00094846', 'attributes': 'H,,S,', 'value': 206}, {'date': '2022-09-16T00:00:00', 'datatype': 'TAVG', 'station': 'GHCND:USW00094846', 'attributes': 'H,,S,', 'value': 227}, {'date': '2022-09-17T00:00:00', 'datatype': 'TAVG', 'station': 'GHCND:USW00094846', 'attributes': 'H,,S,', 'value': 242}, {'date': '2022-09-18T00:00:00', 'datatype': 'TAVG', 'station': 'GHCND:USW00094846', 'attributes': 'H,,S,', 'value': 252}, {'date': '2022-09-19T00:00:00', 'datatype': 'TAVG', 'station': 'GHCND:USW00094846', 'attributes': 'H,,S,', 'value': 226}, {'date': '2022-09-20T00:00:00', 'datatype': 'TAVG', 'station': 'GHCND:USW00094846', 'attributes': 'H,,S,', 'value': 221}, {'date': '2022-09-21T00:00:00', 'datatype': 'TAVG', 'station': 'GHCND:USW00094846', 'attributes': 'H,,S,', 'value': 254}, {'date': '2022-09-22T00:00:00', 'datatype': 'TAVG', 'station': 'GHCND:USW00094846', 'attributes': 'H,,S,', 'value': 159}, {'date': '2022-09-23T00:00:00', 'datatype': 'TAVG', 'station': 'GHCND:USW00094846', 'attributes': 'H,,S,', 'value': 132}, {'date': '2022-09-24T00:00:00', 'datatype': 'TAVG', 'station': 'GHCND:USW00094846', 'attributes': 'H,,S,', 'value': 153}, {'date': '2022-09-25T00:00:00', 'datatype': 'TAVG', 'station': 'GHCND:USW00094846', 'attributes': 'H,,S,', 'value': 163}, {'date': '2022-09-26T00:00:00', 'datatype': 'TAVG', 'station': 'GHCND:USW00094846', 'attributes': 'H,,S,', 'value': 137}, {'date': '2022-09-27T00:00:00', 'datatype': 'TAVG', 'station': 'GHCND:USW00094846', 'attributes': 'H,,S,', 'value': 118}, {'date': '2022-09-28T00:00:00', 'datatype': 'TAVG', 'station': 'GHCND:USW00094846', 'attributes': 'H,,S,', 'value': 112}, {'date': '2022-09-29T00:00:00', 'datatype': 'TAVG', 'station': 'GHCND:USW00094846', 'attributes': 'H,,S,', 'value': 115}, {'date': '2022-09-30T00:00:00', 'datatype': 'TAVG', 'station': 'GHCND:USW00094846', 'attributes': 'H,,S,', 'value': 132}, {'date': '2022-10-01T00:00:00', 'datatype': 'TAVG', 'station': 'GHCND:USW00094846', 'attributes': 'H,,S,', 'value': 145}, {'date': '2022-10-02T00:00:00', 'datatype': 'TAVG', 'station': 'GHCND:USW00094846', 'attributes': 'H,,S,', 'value': 147}, {'date': '2022-10-03T00:00:00', 'datatype': 'TAVG', 'station': 'GHCND:USW00094846', 'attributes': 'H,,S,', 'value': 136}, {'date': '2022-10-04T00:00:00', 'datatype': 'TAVG', 'station': 'GHCND:USW00094846', 'attributes': 'H,,S,', 'value': 141}, {'date': '2022-10-05T00:00:00', 'datatype': 'TAVG', 'station': 'GHCND:USW00094846', 'attributes': 'H,,S,', 'value': 162}, {'date': '2022-10-06T00:00:00', 'datatype': 'TAVG', 'station': 'GHCND:USW00094846', 'attributes': 'H,,S,', 'value': 179}, {'date': '2022-10-07T00:00:00', 'datatype': 'TAVG', 'station': 'GHCND:USW00094846', 'attributes': 'H,,S,', 'value': 104}, {'date': '2022-10-08T00:00:00', 'datatype': 'TAVG', 'station': 'GHCND:USW00094846', 'attributes': 'H,,S,', 'value': 79}, {'date': '2022-10-09T00:00:00', 'datatype': 'TAVG', 'station': 'GHCND:USW00094846', 'attributes': 'H,,S,', 'value': 117}, {'date': '2022-10-10T00:00:00', 'datatype': 'TAVG', 'station': 'GHCND:USW00094846', 'attributes': 'H,,S,', 'value': 149}, {'date': '2022-10-11T00:00:00', 'datatype': 'TAVG', 'station': 'GHCND:USW00094846', 'attributes': 'H,,S,', 'value': 143}, {'date': '2022-10-12T00:00:00', 'datatype': 'TAVG', 'station': 'GHCND:USW00094846', 'attributes': 'H,,S,', 'value': 155}, {'date': '2022-10-13T00:00:00', 'datatype': 'TAVG', 'station': 'GHCND:USW00094846', 'attributes': 'H,,S,', 'value': 93}, {'date': '2022-10-14T00:00:00', 'datatype': 'TAVG', 'station': 'GHCND:USW00094846', 'attributes': 'H,,S,', 'value': 77}, {'date': '2022-10-15T00:00:00', 'datatype': 'TAVG', 'station': 'GHCND:USW00094846', 'attributes': 'H,,S,', 'value': 66}, {'date': '2022-10-16T00:00:00', 'datatype': 'TAVG', 'station': 'GHCND:USW00094846', 'attributes': 'H,,S,', 'value': 88}, {'date': '2022-10-17T00:00:00', 'datatype': 'TAVG', 'station': 'GHCND:USW00094846', 'attributes': 'H,,S,', 'value': 51}, {'date': '2022-10-18T00:00:00', 'datatype': 'TAVG', 'station': 'GHCND:USW00094846', 'attributes': 'H,,S,', 'value': 44}, {'date': '2022-10-19T00:00:00', 'datatype': 'TAVG', 'station': 'GHCND:USW00094846', 'attributes': 'H,,S,', 'value': 53}, {'date': '2022-10-20T00:00:00', 'datatype': 'TAVG', 'station': 'GHCND:USW00094846', 'attributes': 'H,,S,', 'value': 61}, {'date': '2022-10-21T00:00:00', 'datatype': 'TAVG', 'station': 'GHCND:USW00094846', 'attributes': 'H,,S,', 'value': 129}, {'date': '2022-10-22T00:00:00', 'datatype': 'TAVG', 'station': 'GHCND:USW00094846', 'attributes': 'H,,S,', 'value': 194}, {'date': '2022-10-23T00:00:00', 'datatype': 'TAVG', 'station': 'GHCND:USW00094846', 'attributes': 'H,,S,', 'value': 208}, {'date': '2022-10-24T00:00:00', 'datatype': 'TAVG', 'station': 'GHCND:USW00094846', 'attributes': 'H,,S,', 'value': 212}, {'date': '2022-10-25T00:00:00', 'datatype': 'TAVG', 'station': 'GHCND:USW00094846', 'attributes': 'H,,S,', 'value': 177}, {'date': '2022-10-26T00:00:00', 'datatype': 'TAVG', 'station': 'GHCND:USW00094846', 'attributes': 'H,,S,', 'value': 90}, {'date': '2022-10-27T00:00:00', 'datatype': 'TAVG', 'station': 'GHCND:USW00094846', 'attributes': 'H,,S,', 'value': 75}, {'date': '2022-10-28T00:00:00', 'datatype': 'TAVG', 'station': 'GHCND:USW00094846', 'attributes': 'H,,S,', 'value': 104}, {'date': '2022-10-29T00:00:00', 'datatype': 'TAVG', 'station': 'GHCND:USW00094846', 'attributes': 'H,,S,', 'value': 104}, {'date': '2022-10-30T00:00:00', 'datatype': 'TAVG', 'station': 'GHCND:USW00094846', 'attributes': 'H,,S,', 'value': 114}, {'date': '2022-10-31T00:00:00', 'datatype': 'TAVG', 'station': 'GHCND:USW00094846', 'attributes': 'H,,S,', 'value': 128}, {'date': '2022-11-01T00:00:00', 'datatype': 'TAVG', 'station': 'GHCND:USW00094846', 'attributes': 'H,,S,', 'value': 129}, {'date': '2022-11-02T00:00:00', 'datatype': 'TAVG', 'station': 'GHCND:USW00094846', 'attributes': 'H,,S,', 'value': 134}, {'date': '2022-11-03T00:00:00', 'datatype': 'TAVG', 'station': 'GHCND:USW00094846', 'attributes': 'H,,S,', 'value': 167}, {'date': '2022-11-04T00:00:00', 'datatype': 'TAVG', 'station': 'GHCND:USW00094846', 'attributes': 'H,,S,', 'value': 181}, {'date': '2022-11-05T00:00:00', 'datatype': 'TAVG', 'station': 'GHCND:USW00094846', 'attributes': 'H,,S,', 'value': 167}, {'date': '2022-11-06T00:00:00', 'datatype': 'TAVG', 'station': 'GHCND:USW00094846', 'attributes': 'H,,S,', 'value': 103}, {'date': '2022-11-07T00:00:00', 'datatype': 'TAVG', 'station': 'GHCND:USW00094846', 'attributes': 'H,,S,', 'value': 92}, {'date': '2022-11-08T00:00:00', 'datatype': 'TAVG', 'station': 'GHCND:USW00094846', 'attributes': 'H,,S,', 'value': 88}, {'date': '2022-11-09T00:00:00', 'datatype': 'TAVG', 'station': 'GHCND:USW00094846', 'attributes': 'H,,S,', 'value': 129}, {'date': '2022-11-10T00:00:00', 'datatype': 'TAVG', 'station': 'GHCND:USW00094846', 'attributes': 'H,,S,', 'value': 196}, {'date': '2022-11-11T00:00:00', 'datatype': 'TAVG', 'station': 'GHCND:USW00094846', 'attributes': 'H,,S,', 'value': 109}, {'date': '2022-11-12T00:00:00', 'datatype': 'TAVG', 'station': 'GHCND:USW00094846', 'attributes': 'H,,S,', 'value': 11}, {'date': '2022-11-13T00:00:00', 'datatype': 'TAVG', 'station': 'GHCND:USW00094846', 'attributes': 'H,,S,', 'value': 7}, {'date': '2022-11-14T00:00:00', 'datatype': 'TAVG', 'station': 'GHCND:USW00094846', 'attributes': 'H,,S,', 'value': 4}, {'date': '2022-11-15T00:00:00', 'datatype': 'TAVG', 'station': 'GHCND:USW00094846', 'attributes': 'H,,S,', 'value': 21}, {'date': '2022-11-16T00:00:00', 'datatype': 'TAVG', 'station': 'GHCND:USW00094846', 'attributes': 'H,,S,', 'value': 13}, {'date': '2022-11-17T00:00:00', 'datatype': 'TAVG', 'station': 'GHCND:USW00094846', 'attributes': 'H,,S,', 'value': -2}, {'date': '2022-11-18T00:00:00', 'datatype': 'TAVG', 'station': 'GHCND:USW00094846', 'attributes': 'H,,S,', 'value': -23}, {'date': '2022-11-19T00:00:00', 'datatype': 'TAVG', 'station': 'GHCND:USW00094846', 'attributes': 'H,,S,', 'value': -52}, {'date': '2022-11-20T00:00:00', 'datatype': 'TAVG', 'station': 'GHCND:USW00094846', 'attributes': 'H,,S,', 'value': -59}, {'date': '2022-11-21T00:00:00', 'datatype': 'TAVG', 'station': 'GHCND:USW00094846', 'attributes': 'H,,S,', 'value': 19}, {'date': '2022-11-22T00:00:00', 'datatype': 'TAVG', 'station': 'GHCND:USW00094846', 'attributes': 'H,,S,', 'value': 32}, {'date': '2022-11-23T00:00:00', 'datatype': 'TAVG', 'station': 'GHCND:USW00094846', 'attributes': 'H,,S,', 'value': 64}, {'date': '2022-11-24T00:00:00', 'datatype': 'TAVG', 'station': 'GHCND:USW00094846', 'attributes': 'H,,S,', 'value': 75}, {'date': '2022-11-25T00:00:00', 'datatype': 'TAVG', 'station': 'GHCND:USW00094846', 'attributes': 'H,,S,', 'value': 64}, {'date': '2022-11-26T00:00:00', 'datatype': 'TAVG', 'station': 'GHCND:USW00094846', 'attributes': 'H,,S,', 'value': 63}, {'date': '2022-11-27T00:00:00', 'datatype': 'TAVG', 'station': 'GHCND:USW00094846', 'attributes': 'H,,S,', 'value': 69}, {'date': '2022-11-28T00:00:00', 'datatype': 'TAVG', 'station': 'GHCND:USW00094846', 'attributes': 'H,,S,', 'value': 31}, {'date': '2022-11-29T00:00:00', 'datatype': 'TAVG', 'station': 'GHCND:USW00094846', 'attributes': 'H,,S,', 'value': 79}, {'date': '2022-11-30T00:00:00', 'datatype': 'TAVG', 'station': 'GHCND:USW00094846', 'attributes': 'H,,S,', 'value': 6}, {'date': '2022-12-01T00:00:00', 'datatype': 'TAVG', 'station': 'GHCND:USW00094846', 'attributes': 'H,,S,', 'value': -42}, {'date': '2022-12-02T00:00:00', 'datatype': 'TAVG', 'station': 'GHCND:USW00094846', 'attributes': 'H,,S,', 'value': 46}, {'date': '2022-12-03T00:00:00', 'datatype': 'TAVG', 'station': 'GHCND:USW00094846', 'attributes': 'H,,S,', 'value': 26}, {'date': '2022-12-04T00:00:00', 'datatype': 'TAVG', 'station': 'GHCND:USW00094846', 'attributes': 'H,,S,', 'value': -29}, {'date': '2022-12-05T00:00:00', 'datatype': 'TAVG', 'station': 'GHCND:USW00094846', 'attributes': 'H,,S,', 'value': 17}, {'date': '2022-12-06T00:00:00', 'datatype': 'TAVG', 'station': 'GHCND:USW00094846', 'attributes': 'H,,S,', 'value': 49}, {'date': '2022-12-07T00:00:00', 'datatype': 'TAVG', 'station': 'GHCND:USW00094846', 'attributes': 'H,,S,', 'value': 41}, {'date': '2022-12-08T00:00:00', 'datatype': 'TAVG', 'station': 'GHCND:USW00094846', 'attributes': 'H,,S,', 'value': 25}, {'date': '2022-12-09T00:00:00', 'datatype': 'TAVG', 'station': 'GHCND:USW00094846', 'attributes': 'H,,S,', 'value': 26}, {'date': '2022-12-10T00:00:00', 'datatype': 'TAVG', 'station': 'GHCND:USW00094846', 'attributes': 'H,,S,', 'value': 34}, {'date': '2022-12-11T00:00:00', 'datatype': 'TAVG', 'station': 'GHCND:USW00094846', 'attributes': 'H,,S,', 'value': 35}, {'date': '2022-12-12T00:00:00', 'datatype': 'TAVG', 'station': 'GHCND:USW00094846', 'attributes': 'H,,S,', 'value': 36}, {'date': '2022-12-13T00:00:00', 'datatype': 'TAVG', 'station': 'GHCND:USW00094846', 'attributes': 'H,,S,', 'value': 27}, {'date': '2022-12-14T00:00:00', 'datatype': 'TAVG', 'station': 'GHCND:USW00094846', 'attributes': 'H,,S,', 'value': 41}, {'date': '2022-12-15T00:00:00', 'datatype': 'TAVG', 'station': 'GHCND:USW00094846', 'attributes': 'H,,S,', 'value': 26}, {'date': '2022-12-16T00:00:00', 'datatype': 'TAVG', 'station': 'GHCND:USW00094846', 'attributes': 'H,,S,', 'value': -9}, {'date': '2022-12-17T00:00:00', 'datatype': 'TAVG', 'station': 'GHCND:USW00094846', 'attributes': 'H,,S,', 'value': -37}, {'date': '2022-12-18T00:00:00', 'datatype': 'TAVG', 'station': 'GHCND:USW00094846', 'attributes': 'H,,S,', 'value': -70}, {'date': '2022-12-19T00:00:00', 'datatype': 'TAVG', 'station': 'GHCND:USW00094846', 'attributes': 'H,,S,', 'value': -87}, {'date': '2022-12-20T00:00:00', 'datatype': 'TAVG', 'station': 'GHCND:USW00094846', 'attributes': 'H,,S,', 'value': -25}, {'date': '2022-12-21T00:00:00', 'datatype': 'TAVG', 'station': 'GHCND:USW00094846', 'attributes': 'H,,S,', 'value': -67}, {'date': '2022-12-22T00:00:00', 'datatype': 'TAVG', 'station': 'GHCND:USW00094846', 'attributes': 'H,,S,', 'value': -22}, {'date': '2022-12-23T00:00:00', 'datatype': 'TAVG', 'station': 'GHCND:USW00094846', 'attributes': 'H,,S,', 'value': -199}, {'date': '2022-12-24T00:00:00', 'datatype': 'TAVG', 'station': 'GHCND:USW00094846', 'attributes': 'H,,S,', 'value': -158}, {'date': '2022-12-25T00:00:00', 'datatype': 'TAVG', 'station': 'GHCND:USW00094846', 'attributes': 'H,,S,', 'value': -134}, {'date': '2022-12-26T00:00:00', 'datatype': 'TAVG', 'station': 'GHCND:USW00094846', 'attributes': 'H,,S,', 'value': -84}, {'date': '2022-12-27T00:00:00', 'datatype': 'TAVG', 'station': 'GHCND:USW00094846', 'attributes': 'H,,S,', 'value': -96}, {'date': '2022-12-28T00:00:00', 'datatype': 'TAVG', 'station': 'GHCND:USW00094846', 'attributes': 'H,,S,', 'value': -3}, {'date': '2022-12-29T00:00:00', 'datatype': 'TAVG', 'station': 'GHCND:USW00094846', 'attributes': 'H,,S,', 'value': 92}, {'date': '2022-12-30T00:00:00', 'datatype': 'TAVG', 'station': 'GHCND:USW00094846', 'attributes': 'H,,S,', 'value': 87}, {'date': '2022-12-31T00:00:00', 'datatype': 'TAVG', 'station': 'GHCND:USW00094846', 'attributes': 'H,,S,', 'value': 1}]}\n"
     ]
    }
   ],
   "source": [
    "import requests\n",
    "\n",
    "# Your API token\n",
    "token = \"XCOuXKYhwccPeBOiSzBhHySVZFeDEniP\"\n",
    "import requests\n",
    "\n",
    "# Make the request to the NOAA API\n",
    "r = requests.get(\n",
    "    'https://www.ncdc.noaa.gov/cdo-web/api/v2/data?datasetid=GHCND&datatypeid=TAVG&limit=1000&stationid=GHCND:USW00094846&startdate=2022-01-01&enddate=2022-12-31',\n",
    "    headers={'token': token}\n",
    ")\n",
    "\n",
    "# Check the response status\n",
    "print(r.status_code)\n",
    "\n",
    "# If the request was successful, print the JSON response\n",
    "if r.status_code == 200:\n",
    "    data = r.json()  # Assuming the API returns JSON\n",
    "    print(data)\n",
    "else:\n",
    "    print(f\"Request failed with status code {r.status_code}\")"
   ]
  },
  {
   "cell_type": "code",
   "execution_count": 14,
   "id": "566b2940-9f54-4b5c-a1d5-bd5ca516a116",
   "metadata": {},
   "outputs": [],
   "source": [
    "# Load the api response as a json\n",
    "\n",
    "d = json.loads(r.text)"
   ]
  },
  {
   "cell_type": "code",
   "execution_count": 15,
   "id": "be31489a-369c-451a-94ef-2c774a2e8839",
   "metadata": {},
   "outputs": [
    {
     "name": "stdout",
     "output_type": "stream",
     "text": [
      "        date  avgTemp\n",
      "0 2022-01-01      2.0\n",
      "1 2022-01-02     -4.6\n",
      "2 2022-01-03     -9.2\n",
      "3 2022-01-04     -3.6\n",
      "4 2022-01-05     -4.6\n"
     ]
    }
   ],
   "source": [
    "from datetime import datetime\n",
    "\n",
    "# Assuming `d` contains the response data from NOAA API\n",
    "# Filter out the items corresponding to 'TAVG' (average temperature)\n",
    "avg_temps = [item for item in d['results'] if item['datatype'] == 'TAVG']\n",
    "\n",
    "# Get only the 'date' field from all average temperature readings\n",
    "data_temp = [item['date'] for item in avg_temps]\n",
    "\n",
    "# Get the 'value' field (temperature) from all average temperature readings\n",
    "temps = [item['value'] for item in avg_temps]\n",
    "\n",
    "# Convert the date field to a datetime object (assuming data_temp contains ISO formatted dates)\n",
    "dates = [datetime.strptime(d, \"%Y-%m-%dT%H:%M:%S\") for d in data_temp]\n",
    "\n",
    "# Create the DataFrame with the processed data\n",
    "import pandas as pd\n",
    "df_temps = pd.DataFrame({\n",
    "    'date': dates,\n",
    "    'avgTemp': [float(v)/10.0 for v in temps]  # Assuming temps are in tenths of degrees\n",
    "})\n",
    "\n",
    "# Display the resulting DataFrame\n",
    "print(df_temps.head())\n",
    "df_temps.to_csv('df_temps.csv', index=False)"
   ]
  },
  {
   "cell_type": "code",
   "execution_count": 16,
   "id": "0db7a20b-0b41-40cd-aa22-d19ad946cc8d",
   "metadata": {},
   "outputs": [
    {
     "data": {
      "text/plain": [
       "date        avgTemp\n",
       "2022-01-01  2.0        1\n",
       "2022-09-09  23.0       1\n",
       "2022-09-07  21.8       1\n",
       "2022-09-06  21.4       1\n",
       "2022-09-05  20.1       1\n",
       "                      ..\n",
       "2022-05-01  12.6       1\n",
       "2022-04-30  14.2       1\n",
       "2022-04-29  11.9       1\n",
       "2022-04-28  5.6        1\n",
       "2022-12-31  0.1        1\n",
       "Name: count, Length: 365, dtype: int64"
      ]
     },
     "execution_count": 16,
     "metadata": {},
     "output_type": "execute_result"
    }
   ],
   "source": [
    "df_temps.value_counts(dropna = False)"
   ]
  },
  {
   "cell_type": "code",
   "execution_count": null,
   "id": "efdd3ff7-8a28-45ef-aace-85825ab24985",
   "metadata": {},
   "outputs": [],
   "source": []
  }
 ],
 "metadata": {
  "kernelspec": {
   "display_name": "Python (citibike_env)",
   "language": "python",
   "name": "citibike_env"
  },
  "language_info": {
   "codemirror_mode": {
    "name": "ipython",
    "version": 3
   },
   "file_extension": ".py",
   "mimetype": "text/x-python",
   "name": "python",
   "nbconvert_exporter": "python",
   "pygments_lexer": "ipython3",
   "version": "3.9.21"
  }
 },
 "nbformat": 4,
 "nbformat_minor": 5
}
